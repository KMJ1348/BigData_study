{
  "nbformat": 4,
  "nbformat_minor": 0,
  "metadata": {
    "colab": {
      "provenance": []
    },
    "kernelspec": {
      "name": "python3",
      "display_name": "Python 3"
    },
    "language_info": {
      "name": "python"
    }
  },
  "cells": [
    {
      "cell_type": "markdown",
      "source": [
        "1. 데이터 load \n",
        "\n",
        "2. 데이터 결측값 처리\n",
        "\n",
        "3. correlation (feature selection)\n",
        "\n",
        "4. AutoML (model selection) base model + blender = 3+1, 5+1, 7+1 .....\n",
        "                                     blender = catboost 많이 사용 2023.04 기준 \n",
        "\n",
        "5. 선정된 모델들을 전부 다 optuna 로 최적의 hyper 를 찾음\n",
        "\n",
        "6. stacking 에 모델들을 넣는다.\n",
        "Ridge Classifier, Logistic Regression, Extra Trees Classifier\n",
        "\n",
        "blender = catboost"
      ],
      "metadata": {
        "id": "qdrTmD4S-xh8"
      }
    },
    {
      "cell_type": "code",
      "execution_count": 3,
      "metadata": {
        "colab": {
          "base_uri": "https://localhost:8080/"
        },
        "id": "ZaoPu5dL9m2I",
        "outputId": "d2e30a05-6a04-4dd3-ba35-b423966325db"
      },
      "outputs": [
        {
          "output_type": "execute_result",
          "data": {
            "text/plain": [
              "PassengerId      0\n",
              "Survived         0\n",
              "Pclass           0\n",
              "Name             0\n",
              "Sex              0\n",
              "Age            177\n",
              "SibSp            0\n",
              "Parch            0\n",
              "Ticket           0\n",
              "Fare             0\n",
              "Cabin          687\n",
              "Embarked         2\n",
              "dtype: int64"
            ]
          },
          "metadata": {},
          "execution_count": 3
        }
      ],
      "source": [
        "import pandas as pd\n",
        "\n",
        "f = pd.read_csv('titanic.csv')\n",
        "f.isnull().sum()"
      ]
    },
    {
      "cell_type": "code",
      "source": [
        "f.Age.fillna(f.Age.median(), inplace=True)\n",
        "# 여자:0 남자:1로 변환\n",
        "f.Sex = f.Sex.map({'female':0, 'male':1})\n",
        "\n",
        "# Embarked 누락값을 S로\n",
        "f.Embarked.fillna('S', inplace=True)\n",
        "\n",
        "embarked_dummies = pd.get_dummies(f.Embarked, prefix='Embarked', drop_first=True)\n",
        "\n",
        "# 뒤에 붙여줌\n",
        "titanic = pd.concat([f, embarked_dummies], axis=1)"
      ],
      "metadata": {
        "id": "TvUylaA196sI"
      },
      "execution_count": 6,
      "outputs": []
    },
    {
      "cell_type": "code",
      "source": [
        "f.corr() # Pclass, Sex, Fare\t "
      ],
      "metadata": {
        "colab": {
          "base_uri": "https://localhost:8080/",
          "height": 326
        },
        "id": "i5MNJojn_c01",
        "outputId": "7cc5f749-9230-4544-8c1f-7ef6077aa5af"
      },
      "execution_count": 7,
      "outputs": [
        {
          "output_type": "stream",
          "name": "stderr",
          "text": [
            "<ipython-input-7-46fba0b108b4>:1: FutureWarning: The default value of numeric_only in DataFrame.corr is deprecated. In a future version, it will default to False. Select only valid columns or specify the value of numeric_only to silence this warning.\n",
            "  f.corr() # Pclass, Sex, Fare\n"
          ]
        },
        {
          "output_type": "execute_result",
          "data": {
            "text/plain": [
              "             PassengerId  Survived    Pclass       Age     SibSp     Parch  \\\n",
              "PassengerId     1.000000 -0.005007 -0.035144  0.034212 -0.057527 -0.001652   \n",
              "Survived       -0.005007  1.000000 -0.338481 -0.064910 -0.035322  0.081629   \n",
              "Pclass         -0.035144 -0.338481  1.000000 -0.339898  0.083081  0.018443   \n",
              "Age             0.034212 -0.064910 -0.339898  1.000000 -0.233296 -0.172482   \n",
              "SibSp          -0.057527 -0.035322  0.083081 -0.233296  1.000000  0.414838   \n",
              "Parch          -0.001652  0.081629  0.018443 -0.172482  0.414838  1.000000   \n",
              "Fare            0.012658  0.257307 -0.549500  0.096688  0.159651  0.216225   \n",
              "\n",
              "                 Fare  \n",
              "PassengerId  0.012658  \n",
              "Survived     0.257307  \n",
              "Pclass      -0.549500  \n",
              "Age          0.096688  \n",
              "SibSp        0.159651  \n",
              "Parch        0.216225  \n",
              "Fare         1.000000  "
            ],
            "text/html": [
              "\n",
              "  <div id=\"df-1f40d592-9c3c-4b36-ab1a-65633683180d\">\n",
              "    <div class=\"colab-df-container\">\n",
              "      <div>\n",
              "<style scoped>\n",
              "    .dataframe tbody tr th:only-of-type {\n",
              "        vertical-align: middle;\n",
              "    }\n",
              "\n",
              "    .dataframe tbody tr th {\n",
              "        vertical-align: top;\n",
              "    }\n",
              "\n",
              "    .dataframe thead th {\n",
              "        text-align: right;\n",
              "    }\n",
              "</style>\n",
              "<table border=\"1\" class=\"dataframe\">\n",
              "  <thead>\n",
              "    <tr style=\"text-align: right;\">\n",
              "      <th></th>\n",
              "      <th>PassengerId</th>\n",
              "      <th>Survived</th>\n",
              "      <th>Pclass</th>\n",
              "      <th>Age</th>\n",
              "      <th>SibSp</th>\n",
              "      <th>Parch</th>\n",
              "      <th>Fare</th>\n",
              "    </tr>\n",
              "  </thead>\n",
              "  <tbody>\n",
              "    <tr>\n",
              "      <th>PassengerId</th>\n",
              "      <td>1.000000</td>\n",
              "      <td>-0.005007</td>\n",
              "      <td>-0.035144</td>\n",
              "      <td>0.034212</td>\n",
              "      <td>-0.057527</td>\n",
              "      <td>-0.001652</td>\n",
              "      <td>0.012658</td>\n",
              "    </tr>\n",
              "    <tr>\n",
              "      <th>Survived</th>\n",
              "      <td>-0.005007</td>\n",
              "      <td>1.000000</td>\n",
              "      <td>-0.338481</td>\n",
              "      <td>-0.064910</td>\n",
              "      <td>-0.035322</td>\n",
              "      <td>0.081629</td>\n",
              "      <td>0.257307</td>\n",
              "    </tr>\n",
              "    <tr>\n",
              "      <th>Pclass</th>\n",
              "      <td>-0.035144</td>\n",
              "      <td>-0.338481</td>\n",
              "      <td>1.000000</td>\n",
              "      <td>-0.339898</td>\n",
              "      <td>0.083081</td>\n",
              "      <td>0.018443</td>\n",
              "      <td>-0.549500</td>\n",
              "    </tr>\n",
              "    <tr>\n",
              "      <th>Age</th>\n",
              "      <td>0.034212</td>\n",
              "      <td>-0.064910</td>\n",
              "      <td>-0.339898</td>\n",
              "      <td>1.000000</td>\n",
              "      <td>-0.233296</td>\n",
              "      <td>-0.172482</td>\n",
              "      <td>0.096688</td>\n",
              "    </tr>\n",
              "    <tr>\n",
              "      <th>SibSp</th>\n",
              "      <td>-0.057527</td>\n",
              "      <td>-0.035322</td>\n",
              "      <td>0.083081</td>\n",
              "      <td>-0.233296</td>\n",
              "      <td>1.000000</td>\n",
              "      <td>0.414838</td>\n",
              "      <td>0.159651</td>\n",
              "    </tr>\n",
              "    <tr>\n",
              "      <th>Parch</th>\n",
              "      <td>-0.001652</td>\n",
              "      <td>0.081629</td>\n",
              "      <td>0.018443</td>\n",
              "      <td>-0.172482</td>\n",
              "      <td>0.414838</td>\n",
              "      <td>1.000000</td>\n",
              "      <td>0.216225</td>\n",
              "    </tr>\n",
              "    <tr>\n",
              "      <th>Fare</th>\n",
              "      <td>0.012658</td>\n",
              "      <td>0.257307</td>\n",
              "      <td>-0.549500</td>\n",
              "      <td>0.096688</td>\n",
              "      <td>0.159651</td>\n",
              "      <td>0.216225</td>\n",
              "      <td>1.000000</td>\n",
              "    </tr>\n",
              "  </tbody>\n",
              "</table>\n",
              "</div>\n",
              "      <button class=\"colab-df-convert\" onclick=\"convertToInteractive('df-1f40d592-9c3c-4b36-ab1a-65633683180d')\"\n",
              "              title=\"Convert this dataframe to an interactive table.\"\n",
              "              style=\"display:none;\">\n",
              "        \n",
              "  <svg xmlns=\"http://www.w3.org/2000/svg\" height=\"24px\"viewBox=\"0 0 24 24\"\n",
              "       width=\"24px\">\n",
              "    <path d=\"M0 0h24v24H0V0z\" fill=\"none\"/>\n",
              "    <path d=\"M18.56 5.44l.94 2.06.94-2.06 2.06-.94-2.06-.94-.94-2.06-.94 2.06-2.06.94zm-11 1L8.5 8.5l.94-2.06 2.06-.94-2.06-.94L8.5 2.5l-.94 2.06-2.06.94zm10 10l.94 2.06.94-2.06 2.06-.94-2.06-.94-.94-2.06-.94 2.06-2.06.94z\"/><path d=\"M17.41 7.96l-1.37-1.37c-.4-.4-.92-.59-1.43-.59-.52 0-1.04.2-1.43.59L10.3 9.45l-7.72 7.72c-.78.78-.78 2.05 0 2.83L4 21.41c.39.39.9.59 1.41.59.51 0 1.02-.2 1.41-.59l7.78-7.78 2.81-2.81c.8-.78.8-2.07 0-2.86zM5.41 20L4 18.59l7.72-7.72 1.47 1.35L5.41 20z\"/>\n",
              "  </svg>\n",
              "      </button>\n",
              "      \n",
              "  <style>\n",
              "    .colab-df-container {\n",
              "      display:flex;\n",
              "      flex-wrap:wrap;\n",
              "      gap: 12px;\n",
              "    }\n",
              "\n",
              "    .colab-df-convert {\n",
              "      background-color: #E8F0FE;\n",
              "      border: none;\n",
              "      border-radius: 50%;\n",
              "      cursor: pointer;\n",
              "      display: none;\n",
              "      fill: #1967D2;\n",
              "      height: 32px;\n",
              "      padding: 0 0 0 0;\n",
              "      width: 32px;\n",
              "    }\n",
              "\n",
              "    .colab-df-convert:hover {\n",
              "      background-color: #E2EBFA;\n",
              "      box-shadow: 0px 1px 2px rgba(60, 64, 67, 0.3), 0px 1px 3px 1px rgba(60, 64, 67, 0.15);\n",
              "      fill: #174EA6;\n",
              "    }\n",
              "\n",
              "    [theme=dark] .colab-df-convert {\n",
              "      background-color: #3B4455;\n",
              "      fill: #D2E3FC;\n",
              "    }\n",
              "\n",
              "    [theme=dark] .colab-df-convert:hover {\n",
              "      background-color: #434B5C;\n",
              "      box-shadow: 0px 1px 3px 1px rgba(0, 0, 0, 0.15);\n",
              "      filter: drop-shadow(0px 1px 2px rgba(0, 0, 0, 0.3));\n",
              "      fill: #FFFFFF;\n",
              "    }\n",
              "  </style>\n",
              "\n",
              "      <script>\n",
              "        const buttonEl =\n",
              "          document.querySelector('#df-1f40d592-9c3c-4b36-ab1a-65633683180d button.colab-df-convert');\n",
              "        buttonEl.style.display =\n",
              "          google.colab.kernel.accessAllowed ? 'block' : 'none';\n",
              "\n",
              "        async function convertToInteractive(key) {\n",
              "          const element = document.querySelector('#df-1f40d592-9c3c-4b36-ab1a-65633683180d');\n",
              "          const dataTable =\n",
              "            await google.colab.kernel.invokeFunction('convertToInteractive',\n",
              "                                                     [key], {});\n",
              "          if (!dataTable) return;\n",
              "\n",
              "          const docLinkHtml = 'Like what you see? Visit the ' +\n",
              "            '<a target=\"_blank\" href=https://colab.research.google.com/notebooks/data_table.ipynb>data table notebook</a>'\n",
              "            + ' to learn more about interactive tables.';\n",
              "          element.innerHTML = '';\n",
              "          dataTable['output_type'] = 'display_data';\n",
              "          await google.colab.output.renderOutput(dataTable, element);\n",
              "          const docLink = document.createElement('div');\n",
              "          docLink.innerHTML = docLinkHtml;\n",
              "          element.appendChild(docLink);\n",
              "        }\n",
              "      </script>\n",
              "    </div>\n",
              "  </div>\n",
              "  "
            ]
          },
          "metadata": {},
          "execution_count": 7
        }
      ]
    },
    {
      "cell_type": "code",
      "source": [
        "!pip install pycaret"
      ],
      "metadata": {
        "id": "WfsSkzxuDgDF"
      },
      "execution_count": null,
      "outputs": []
    },
    {
      "cell_type": "code",
      "source": [
        "# pycaret classification 모듈\n",
        "from pycaret.classification import setup\n",
        "# pycaret classification 모델들을 비교하기 위한 모듈\n",
        "from pycaret.classification import compare_models\n",
        "# 컬럼명 String으로 반환\n",
        "# 데이터셋 설정\n",
        "grid = setup(data=f, target=\"Survived\",  verbose=True)\n",
        "# 모델 학습\n",
        "best = compare_models()\n",
        "# best 모델 확인\n",
        "print(best)"
      ],
      "metadata": {
        "id": "uR6COCZsDhxC"
      },
      "execution_count": null,
      "outputs": []
    },
    {
      "cell_type": "code",
      "source": [
        "X = f[['Pclass', 'Sex', 'Fare']]\n",
        "y = f.Survived"
      ],
      "metadata": {
        "id": "KyANnjZJ_jfH"
      },
      "execution_count": 8,
      "outputs": []
    },
    {
      "cell_type": "code",
      "source": [
        "from sklearn.model_selection import train_test_split\n",
        "X_train, X_valid, y_train, y_valid = train_test_split(X, y, test_size = 0.2 , random_state=42)\n",
        "\n"
      ],
      "metadata": {
        "id": "szxREYJD_vpJ"
      },
      "execution_count": null,
      "outputs": []
    },
    {
      "cell_type": "code",
      "source": [
        "!pip install optuna"
      ],
      "metadata": {
        "id": "WnbALUIyDlAj"
      },
      "execution_count": null,
      "outputs": []
    },
    {
      "cell_type": "code",
      "source": [
        "import optuna\n",
        "import numpy as np\n",
        "import sklearn\n",
        "import xgboost as xgb\n",
        "def objective(trial):\n",
        "\n",
        "    params = {\n",
        "        \"max_depth\": trial.suggest_int(\"max_depth\", 4, 10),\n",
        "        \"learning_rate\": trial.suggest_uniform('learning_rate', 0.0001, 0.99),\n",
        "        'n_estimators': trial.suggest_int(\"n_estimators\", 1000, 10000, step=100),\n",
        "      \n",
        "    }\n",
        "\n",
        "\n",
        "    model = xgb.XGBClassifier(**params, random_state = 7)\n",
        "\n",
        "    bst = model.fit(X_train, y_train,eval_set=[(X_valid,y_valid)], early_stopping_rounds=50, verbose=False)\n",
        "    preds = bst.predict(X_valid)\n",
        "    pred_labels = np.rint(preds)\n",
        "    accuracy = sklearn.metrics.accuracy_score(y_valid, pred_labels)\n",
        "    return accuracy\n",
        "\n",
        "\n",
        "study = optuna.create_study(direction=\"maximize\")\n",
        "study.optimize(objective, n_trials=10, show_progress_bar=True)\n",
        "\n",
        "print(\"Number of finished trials: \", len(study.trials))\n",
        "print(\"Best trial:\")\n",
        "\n",
        "\n",
        "trial = study.best_trial\n"
      ],
      "metadata": {
        "id": "UzeowaaPDmTq"
      },
      "execution_count": null,
      "outputs": []
    },
    {
      "cell_type": "code",
      "source": [
        "from sklearn.ensemble import  StackingClassifier\n",
        "\n",
        "# base_models 설정\n",
        "base_models = [\n",
        "                 ('rc', RidgeClassifier()),\n",
        "                 ('lr', LogisticRegression(base_estimator=DecisionTreeClassifier()),\n",
        "                  ('lr', ExtraTreesClassifier(base_estimator=DecisionTreeClassifier())\n",
        "                ]\n",
        "\n",
        "# stacking 설정\n",
        "clf = StackingClassifier(estimators=base_models, final_estimator= CatboostClassfier() )\n",
        "\n",
        "clf.fit(X_train,y_train)"
      ],
      "metadata": {
        "id": "i1hmFL9QDoTd"
      },
      "execution_count": null,
      "outputs": []
    },
    {
      "cell_type": "code",
      "source": [
        "# 대회에 제출할 csv 파일을 생성"
      ],
      "metadata": {
        "id": "RDN_oHOODpmA"
      },
      "execution_count": null,
      "outputs": []
    }
  ]
}
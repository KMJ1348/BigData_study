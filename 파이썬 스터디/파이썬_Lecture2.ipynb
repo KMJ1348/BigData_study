{
  "nbformat": 4,
  "nbformat_minor": 0,
  "metadata": {
    "colab": {
      "provenance": []
    },
    "kernelspec": {
      "name": "python3",
      "display_name": "Python 3"
    },
    "language_info": {
      "name": "python"
    }
  },
  "cells": [
    {
      "cell_type": "code",
      "execution_count": 1,
      "metadata": {
        "colab": {
          "base_uri": "https://localhost:8080/"
        },
        "id": "rvKtC0OO_ls6",
        "outputId": "2b23d195-9d36-496f-c120-30dfc060c6df"
      },
      "outputs": [
        {
          "output_type": "stream",
          "name": "stdout",
          "text": [
            "반지름이 3인 원의 면적= 28.26\n"
          ]
        }
      ],
      "source": [
        "def get_area(radius):\n",
        "  area = 3.14*radius**2\n",
        "  return area\n",
        "\n",
        "result = get_area(3)\n",
        "print(\"반지름이 3인 원의 면적=\", result)"
      ]
    },
    {
      "cell_type": "code",
      "source": [
        "def get_input():\n",
        "  return 2,3\n",
        "\n",
        "  x,y = get_input()   #x는 2이고 y는 3이다."
      ],
      "metadata": {
        "id": "BrpwMtBGAR44"
      },
      "execution_count": 3,
      "outputs": []
    },
    {
      "cell_type": "code",
      "source": [
        "def sub():\n",
        "  pass  # 몸체는 나중에 작성하고 싶은 경우 pass 키워드를 사용할 수 있다."
      ],
      "metadata": {
        "id": "X27MZSHGAf2w"
      },
      "execution_count": 4,
      "outputs": []
    },
    {
      "cell_type": "code",
      "source": [
        "def main():\n",
        "  result1= get_area(3)\n",
        "  print(\"반지름이 3인 원의 면적=\", result1)"
      ],
      "metadata": {
        "id": "sbw6zHMKApYt"
      },
      "execution_count": 5,
      "outputs": []
    },
    {
      "cell_type": "code",
      "source": [
        "def test(*a):\n",
        "  print(a)\n",
        "\n",
        "test(10,20,30)   # *a 처럼 * 를 하게 되면 여러개의 값을 가질 수 있는 a가 된다."
      ],
      "metadata": {
        "colab": {
          "base_uri": "https://localhost:8080/"
        },
        "id": "QSlIhHiABqpT",
        "outputId": "47fd98b8-1767-476c-d657-babb4cc57510"
      },
      "execution_count": 6,
      "outputs": [
        {
          "output_type": "stream",
          "name": "stdout",
          "text": [
            "(10, 20, 30)\n"
          ]
        }
      ]
    },
    {
      "cell_type": "code",
      "source": [
        "def varfunc(*args):\n",
        "  print(args)\n",
        "\n",
        "print(\"하나의 값으로 호출\")\n",
        "varfunc(10)\n",
        "\n",
        "print(\"여러 개의 값으로 호출\")\n",
        "varfunc(10,20,30)"
      ],
      "metadata": {
        "colab": {
          "base_uri": "https://localhost:8080/"
        },
        "id": "im1QJyUGB-sA",
        "outputId": "d15fab01-fcae-49f5-cd50-c30dc946d94e"
      },
      "execution_count": 8,
      "outputs": [
        {
          "output_type": "stream",
          "name": "stdout",
          "text": [
            "하나의 값으로 호출\n",
            "(10,)\n",
            "여러 개의 값으로 호출\n",
            "(10, 20, 30)\n"
          ]
        }
      ]
    },
    {
      "cell_type": "code",
      "source": [
        "a = {\"하나\":1, \"둘\":2, \"셋\":3}\n",
        "\n",
        "print(a)\n",
        "print(type(a))\n",
        "print(a[\"하나\"])\n",
        "print(a.values())\n",
        "print(a.keys())"
      ],
      "metadata": {
        "colab": {
          "base_uri": "https://localhost:8080/"
        },
        "id": "8XzXD7O3CaXQ",
        "outputId": "b6a3ccfe-b121-4bf5-db9a-1fe84297c3c4"
      },
      "execution_count": 18,
      "outputs": [
        {
          "output_type": "stream",
          "name": "stdout",
          "text": [
            "{'하나': 1, '둘': 2, '셋': 3}\n",
            "<class 'dict'>\n",
            "1\n",
            "dict_values([1, 2, 3])\n",
            "dict_keys(['하나', '둘', '셋'])\n"
          ]
        }
      ]
    },
    {
      "cell_type": "code",
      "source": [
        "def factorial(n):\n",
        "  if n ==1:\n",
        "    return(1)\n",
        "  else:\n",
        "      return n*factorial(n-1)\n",
        "\n",
        "n = eval(input(\"정수를입력하시오:\"))\n",
        "print(n,\"!=\", factorial(n))"
      ],
      "metadata": {
        "colab": {
          "base_uri": "https://localhost:8080/"
        },
        "id": "yxncBpB_Ceqf",
        "outputId": "a617d2ef-b39a-4a20-c122-00af2ac050d1"
      },
      "execution_count": 22,
      "outputs": [
        {
          "output_type": "stream",
          "name": "stdout",
          "text": [
            "정수를입력하시오:4\n",
            "4 != 24\n"
          ]
        }
      ]
    },
    {
      "cell_type": "code",
      "source": [
        "gx = 100\n",
        "g = 200\n",
        "def myfunc():\n",
        "    global gx   # 함수 안에서 전역변수 변경하기. 전역변수 gx를 사용한다.\n",
        "    gx = g\n",
        "    print(gx)\n",
        "\n",
        "myfunc()\n",
        "print(gx)"
      ],
      "metadata": {
        "colab": {
          "base_uri": "https://localhost:8080/"
        },
        "id": "j7LWPI3sXYT6",
        "outputId": "674c8f9d-5845-4a1e-d9ce-984884f91d80"
      },
      "execution_count": 25,
      "outputs": [
        {
          "output_type": "stream",
          "name": "stdout",
          "text": [
            "200\n",
            "200\n"
          ]
        }
      ]
    },
    {
      "cell_type": "code",
      "source": [
        "questions =['name','quest','color']\n",
        "answers=['Kim','파이썬','blue']\n",
        "for q, a in zip(questions, answers):\n",
        "  print(f\"What is your {q}? It is {a}\")"
      ],
      "metadata": {
        "colab": {
          "base_uri": "https://localhost:8080/"
        },
        "id": "VpIs3u2E5DC3",
        "outputId": "295e2091-636d-49d9-f2c5-4b1abd448e22"
      },
      "execution_count": 2,
      "outputs": [
        {
          "output_type": "stream",
          "name": "stdout",
          "text": [
            "What is your name? It is Kim\n",
            "What is your quest? It is 파이썬\n",
            "What is your color? It is blue\n"
          ]
        }
      ]
    },
    {
      "cell_type": "code",
      "source": [
        "scores = [10.0, 9.0, 8.3, 7.1, 3.0, 9.0]\n",
        "print(\"제거전\", scores)\n",
        "scores.remove(max(scores))\n",
        "scores.remove(min(scores))\n",
        "print(\"제거후\", scores)"
      ],
      "metadata": {
        "colab": {
          "base_uri": "https://localhost:8080/"
        },
        "id": "w1hk7KKz8WOs",
        "outputId": "50a813fb-0f5e-467a-cc0e-608dc743fb7c"
      },
      "execution_count": 3,
      "outputs": [
        {
          "output_type": "stream",
          "name": "stdout",
          "text": [
            "제거전 [10.0, 9.0, 8.3, 7.1, 3.0, 9.0]\n",
            "제거후 [9.0, 8.3, 7.1, 9.0]\n"
          ]
        }
      ]
    },
    {
      "cell_type": "code",
      "source": [
        "squares=[]\n",
        "\n",
        "for x in range(10):\n",
        "  squares.append(x*x)\n",
        "print(squares)\n"
      ],
      "metadata": {
        "colab": {
          "base_uri": "https://localhost:8080/"
        },
        "id": "ljtJh4DVBtTu",
        "outputId": "dfc0e48e-43ce-41f6-cc6d-913aa5559ac6"
      },
      "execution_count": 7,
      "outputs": [
        {
          "output_type": "stream",
          "name": "stdout",
          "text": [
            "[0, 1, 4, 9, 16, 25, 36, 49, 64, 81]\n"
          ]
        }
      ]
    },
    {
      "cell_type": "code",
      "source": [
        "#형식 : [수식 for (변수 in 리스트) if (조건)]\n",
        "squares = [x*x for x in range(10)]"
      ],
      "metadata": {
        "id": "Jg-WkIjpB0D0"
      },
      "execution_count": 5,
      "outputs": []
    },
    {
      "cell_type": "code",
      "source": [
        "prices = [135, -545, 922, 356, -992, 217]\n",
        "mprices = [i if i>0 else 0 for i in prices]\n",
        "mprices\n",
        "[135,0,922,356,0,217]\n",
        "\n",
        "words=[\"All\", \"good\", \"things\", \"must\", \"come\", \"to\", \"an\", \"end.\"]\n",
        "letters = [ w[0] for w in words]\n",
        "letters\n",
        "['A', 'g', 't', 'm', 'c', 't', 'a', 'e']\n",
        "\n",
        "numbers=[x+y for x in ['a','b','c'] for y in['x','y','z']]\n",
        "numbers\n",
        "['ax','ay','az','bx','by','bz','cx','cy','cz']\n",
        "\n",
        "numbers =[]\n",
        "for x in [ 'a', 'b', 'c']:\n",
        "  for y in ['x', 'y', 'z']:\n",
        "    numbers.append(x+y)\n",
        "print(numbers)"
      ],
      "metadata": {
        "id": "mdzj3GFzC4jH"
      },
      "execution_count": null,
      "outputs": []
    }
  ]
}
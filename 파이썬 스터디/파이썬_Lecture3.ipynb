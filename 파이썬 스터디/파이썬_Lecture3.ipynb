{
  "nbformat": 4,
  "nbformat_minor": 0,
  "metadata": {
    "colab": {
      "provenance": []
    },
    "kernelspec": {
      "name": "python3",
      "display_name": "Python 3"
    },
    "language_info": {
      "name": "python"
    }
  },
  "cells": [
    {
      "cell_type": "code",
      "execution_count": 1,
      "metadata": {
        "colab": {
          "base_uri": "https://localhost:8080/"
        },
        "id": "ofuekD59n44O",
        "outputId": "66e34700-1c83-4ec8-afc8-1bc60d7b4a5b"
      },
      "outputs": [
        {
          "output_type": "stream",
          "name": "stdout",
          "text": [
            "[0, 6, 12, 18, 24, 30, 36, 42, 48, 54, 60, 66, 72, 78, 84, 90, 96]\n"
          ]
        }
      ],
      "source": [
        "numbers = [ x for x in range(100) if x % 2 == 0 and x % 3 == 0]\n",
        "          \n",
        "print(numbers)"
      ]
    },
    {
      "cell_type": "code",
      "source": [
        "alist = ['짝수' if i% 2== 0 else '홀수' for i in range(10)]\n",
        "\n",
        "print(alist)"
      ],
      "metadata": {
        "colab": {
          "base_uri": "https://localhost:8080/"
        },
        "id": "V0we0_nCogEu",
        "outputId": "507c8a1b-ec08-4c74-888e-f55156d0e906"
      },
      "execution_count": 3,
      "outputs": [
        {
          "output_type": "stream",
          "name": "stdout",
          "text": [
            "['짝수', '홀수', '짝수', '홀수', '짝수', '홀수', '짝수', '홀수', '짝수', '홀수']\n"
          ]
        }
      ]
    },
    {
      "cell_type": "code",
      "source": [
        "s=[\n",
        "    [1,2,3,4,5],\n",
        "   [6,7,8,9,10],\n",
        "   [11,12,13,14,15]\n",
        "]\n",
        "print(s[1][2])  # 2행3열 을 출력하려면 인덱스 [1][2] 를 출력한다.\n",
        "\n",
        "print(s[1][2:4])"
      ],
      "metadata": {
        "colab": {
          "base_uri": "https://localhost:8080/"
        },
        "id": "q3ZyGq-ko2KR",
        "outputId": "17679531-d555-47a6-b71b-f5ece6926e1e"
      },
      "execution_count": 6,
      "outputs": [
        {
          "output_type": "stream",
          "name": "stdout",
          "text": [
            "8\n",
            "[8, 9]\n"
          ]
        }
      ]
    },
    {
      "cell_type": "code",
      "source": [
        "matrix = [[i for i in range(5)]for _ in range(6)] # [ [ 0,1,2,3,4] for _ in range(6)] \n",
        "                                                    #[] 리스트를 6번 채운다.\n",
        "print(matrix)"
      ],
      "metadata": {
        "colab": {
          "base_uri": "https://localhost:8080/"
        },
        "id": "LfrzXMTtqP4a",
        "outputId": "c63994c6-0dd5-4b96-b5aa-962e41894f34"
      },
      "execution_count": 9,
      "outputs": [
        {
          "output_type": "stream",
          "name": "stdout",
          "text": [
            "[[0, 1, 2, 3, 4], [0, 1, 2, 3, 4], [0, 1, 2, 3, 4], [0, 1, 2, 3, 4], [0, 1, 2, 3, 4], [0, 1, 2, 3, 4]]\n"
          ]
        }
      ]
    },
    {
      "cell_type": "code",
      "source": [
        "matrix1 = []\n",
        "\n",
        "for _ in range(6):\n",
        "  matrix2= []\n",
        "  for i in range(5):\n",
        "    matrix2.append(i)\n",
        "    matrix1.append(matrix2)\n",
        "\n",
        "print(matrix1)"
      ],
      "metadata": {
        "colab": {
          "base_uri": "https://localhost:8080/"
        },
        "id": "Ij6l0iM4qq5w",
        "outputId": "edb2863f-f787-4aef-b03f-43da49cb385f"
      },
      "execution_count": 11,
      "outputs": [
        {
          "output_type": "stream",
          "name": "stdout",
          "text": [
            "[[0, 1, 2, 3, 4], [0, 1, 2, 3, 4], [0, 1, 2, 3, 4], [0, 1, 2, 3, 4], [0, 1, 2, 3, 4], [0, 1, 2, 3, 4], [0, 1, 2, 3, 4], [0, 1, 2, 3, 4], [0, 1, 2, 3, 4], [0, 1, 2, 3, 4], [0, 1, 2, 3, 4], [0, 1, 2, 3, 4], [0, 1, 2, 3, 4], [0, 1, 2, 3, 4], [0, 1, 2, 3, 4], [0, 1, 2, 3, 4], [0, 1, 2, 3, 4], [0, 1, 2, 3, 4], [0, 1, 2, 3, 4], [0, 1, 2, 3, 4], [0, 1, 2, 3, 4], [0, 1, 2, 3, 4], [0, 1, 2, 3, 4], [0, 1, 2, 3, 4], [0, 1, 2, 3, 4], [0, 1, 2, 3, 4], [0, 1, 2, 3, 4], [0, 1, 2, 3, 4], [0, 1, 2, 3, 4], [0, 1, 2, 3, 4]]\n"
          ]
        }
      ]
    },
    {
      "cell_type": "code",
      "source": [
        "matrix = [ [0,0,0],[1,1,1],[2,2,2]]\n",
        "result = []\n",
        "for row in matrix:\n",
        "  for num in row:\n",
        "    result.append(num)\n",
        "\n",
        "print(result)"
      ],
      "metadata": {
        "colab": {
          "base_uri": "https://localhost:8080/"
        },
        "id": "dc6wCjEHrrio",
        "outputId": "26a7fcd4-e16e-43c7-ffd4-4508f299e19e"
      },
      "execution_count": 15,
      "outputs": [
        {
          "output_type": "stream",
          "name": "stdout",
          "text": [
            "[0, 0, 0, 1, 1, 1, 2, 2, 2]\n"
          ]
        }
      ]
    },
    {
      "cell_type": "code",
      "source": [
        "matrix=[['하나','둘','셋'], ['넷','다섯','여섯'],['일곱','여덟','아홉']]\n",
        "i=1\n",
        "for row in matrix:\n",
        "  for num in row:\n",
        "    print(i,num)\n",
        "    i+=1"
      ],
      "metadata": {
        "colab": {
          "base_uri": "https://localhost:8080/"
        },
        "id": "lNB_ztLqst1m",
        "outputId": "b687d932-9585-4db6-9b3c-d5988e5ddd14"
      },
      "execution_count": 42,
      "outputs": [
        {
          "output_type": "stream",
          "name": "stdout",
          "text": [
            "1 하나\n",
            "2 둘\n",
            "3 셋\n",
            "4 넷\n",
            "5 다섯\n",
            "6 여섯\n",
            "7 일곱\n",
            "8 여덟\n",
            "9 아홉\n"
          ]
        }
      ]
    },
    {
      "cell_type": "code",
      "source": [
        "fruits = [\"apple\",\"banana\",\"grape\"]\n",
        "print(list(enumerate(fruits)))\n",
        "for index, value in enumerate(fruits):\n",
        "  print(index,value)"
      ],
      "metadata": {
        "colab": {
          "base_uri": "https://localhost:8080/"
        },
        "id": "1jBAYQoqtT9X",
        "outputId": "350226d6-8d5c-4606-9286-4a66a64313d5"
      },
      "execution_count": 43,
      "outputs": [
        {
          "output_type": "stream",
          "name": "stdout",
          "text": [
            "[(0, 'apple'), (1, 'banana'), (2, 'grape')]\n",
            "0 apple\n",
            "1 banana\n",
            "2 grape\n"
          ]
        }
      ]
    },
    {
      "cell_type": "code",
      "source": [
        "aList =[1,2,3,4,5,1,2]\n",
        "result = {x for x in aList if x%2==0 }\n",
        "print(result)"
      ],
      "metadata": {
        "colab": {
          "base_uri": "https://localhost:8080/"
        },
        "id": "jriiBIMB8aJu",
        "outputId": "6ef73ab4-35d3-47d3-9c28-61fb993957a5"
      },
      "execution_count": 44,
      "outputs": [
        {
          "output_type": "stream",
          "name": "stdout",
          "text": [
            "{2, 4}\n"
          ]
        }
      ]
    },
    {
      "cell_type": "code",
      "source": [
        "list1=[1,2,3,4,5]\n",
        "list2=[3,4,5,6,7]\n",
        "set(list1)&set(list2)\n",
        "{3,4,5}"
      ],
      "metadata": {
        "id": "-iRlOseS9b8C"
      },
      "execution_count": null,
      "outputs": []
    },
    {
      "cell_type": "code",
      "source": [
        "#딕셔너리_이름 = {키1:값1, 키2:값2, 키3:값3,....}\n",
        "capitals = {}\n",
        "capitals = {\"Korea\": \"Seoul\", \"USA\": \"Washington\",\"UK\": \"London\"}\n",
        "print(capitals[\"Korea\"])"
      ],
      "metadata": {
        "colab": {
          "base_uri": "https://localhost:8080/"
        },
        "id": "41maaPJP-AIq",
        "outputId": "b143886b-ed78-41e3-dab4-4419a14a2bdc"
      },
      "execution_count": 48,
      "outputs": [
        {
          "output_type": "stream",
          "name": "stdout",
          "text": [
            "Seoul\n"
          ]
        }
      ]
    },
    {
      "cell_type": "code",
      "source": [
        "capitals = {}\n",
        "capitals[\"Korea\"]=\"Seoul\"\n",
        "capitals[\"USA\"]=\"Washington\"\n",
        "capitals[\"UK\"]=\"London\"\n",
        "capitals[\"France\"]=\"Paris\"\n",
        "print(capitals)\n"
      ],
      "metadata": {
        "colab": {
          "base_uri": "https://localhost:8080/"
        },
        "id": "Fk1mElyp-iUL",
        "outputId": "8f236ca4-3ff1-471c-8911-ce53a546f1cb"
      },
      "execution_count": 49,
      "outputs": [
        {
          "output_type": "stream",
          "name": "stdout",
          "text": [
            "{'Korea': 'Seoul', 'USA': 'Washington', 'UK': 'London', 'France': 'Paris'}\n"
          ]
        }
      ]
    },
    {
      "cell_type": "code",
      "source": [
        "capitals={\"korea\":\"seoul\"}\n",
        "c = capitals.pop(\"korea\")\n",
        "print(c)\n",
        "print(capitals)   # .pop 에 의해 값이 빠져나감"
      ],
      "metadata": {
        "colab": {
          "base_uri": "https://localhost:8080/"
        },
        "id": "nWSRJhY4_Vvn",
        "outputId": "4198b157-e9e1-4f77-c9ed-978c3f454bc0"
      },
      "execution_count": 50,
      "outputs": [
        {
          "output_type": "stream",
          "name": "stdout",
          "text": [
            "seoul\n",
            "{}\n"
          ]
        }
      ]
    },
    {
      "cell_type": "code",
      "source": [
        "capitals={\"Korea\":\"Seoul\",\"USA\":\"Washington\",\"UK\":\"London\"}\n",
        "print(capitals.items())\n",
        "print(capitals.keys()) # key 값만 반환\n",
        "print(capitals.values()) # value 값만 반환 "
      ],
      "metadata": {
        "colab": {
          "base_uri": "https://localhost:8080/"
        },
        "id": "OM3U8tfw__WD",
        "outputId": "e39b222a-ca2b-4585-8f23-992751e7da4c"
      },
      "execution_count": 53,
      "outputs": [
        {
          "output_type": "stream",
          "name": "stdout",
          "text": [
            "dict_items([('Korea', 'Seoul'), ('USA', 'Washington'), ('UK', 'London')])\n",
            "dict_keys(['Korea', 'USA', 'UK'])\n",
            "dict_values(['Seoul', 'Washington', 'London'])\n"
          ]
        }
      ]
    },
    {
      "cell_type": "code",
      "source": [
        "capitals={\"Korea\":\"Seoul\",\"USA\":\"Washington\",\"UK\":\"London\"}\n",
        "print((list(capitals.items())))\n",
        "print(capitals.keys()) # key 값만 반환\n",
        "print(capitals.values()) # value 값만 반환 "
      ],
      "metadata": {
        "colab": {
          "base_uri": "https://localhost:8080/"
        },
        "id": "RKZWK9VLAdUv",
        "outputId": "caf64710-e12d-48b3-e1c9-f361df7dbaf7"
      },
      "execution_count": 56,
      "outputs": [
        {
          "output_type": "stream",
          "name": "stdout",
          "text": [
            "[('Korea', 'Seoul'), ('USA', 'Washington'), ('UK', 'London')]\n",
            "dict_keys(['Korea', 'USA', 'UK'])\n",
            "dict_values(['Seoul', 'Washington', 'London'])\n"
          ]
        }
      ]
    },
    {
      "cell_type": "code",
      "source": [
        "capitals={\"Korea\":\"Seoul\",\"USA\":\"Washington\",\"UK\":\"London\"}\n",
        "for k,v in capitals.items():\n",
        "  print(k,\":\",v)"
      ],
      "metadata": {
        "colab": {
          "base_uri": "https://localhost:8080/"
        },
        "id": "pJ9Bm4muAowN",
        "outputId": "546db5b0-9bc8-4ece-9d22-18eb37302fd7"
      },
      "execution_count": 62,
      "outputs": [
        {
          "output_type": "stream",
          "name": "stdout",
          "text": [
            "Korea : Seoul\n",
            "USA : Washington\n",
            "UK : London\n"
          ]
        }
      ]
    },
    {
      "cell_type": "code",
      "source": [
        "capitals={\"Korea\":\"Seoul\",\"USA\":\"Washington\",\"UK\":\"London\"}\n",
        "\n",
        "for key in sorted(capitals.keys()):\n",
        "  print(key,end=\" \")"
      ],
      "metadata": {
        "colab": {
          "base_uri": "https://localhost:8080/"
        },
        "id": "m_VUrLoWBJBP",
        "outputId": "6e1a1607-c178-412c-99a6-9849a19ed006"
      },
      "execution_count": 67,
      "outputs": [
        {
          "output_type": "stream",
          "name": "stdout",
          "text": [
            "Korea UK USA "
          ]
        }
      ]
    },
    {
      "cell_type": "code",
      "source": [
        "values=[1,2,3,4,5,6]\n",
        "\n",
        "dic={x : x**2 for x in values if x%2==0}\n",
        "print(dic)"
      ],
      "metadata": {
        "colab": {
          "base_uri": "https://localhost:8080/"
        },
        "id": "iEYG24etEeQR",
        "outputId": "c565bb50-a029-4d68-e4a2-34ee49c0bc09"
      },
      "execution_count": 68,
      "outputs": [
        {
          "output_type": "stream",
          "name": "stdout",
          "text": [
            "{2: 4, 4: 16, 6: 36}\n"
          ]
        }
      ]
    },
    {
      "cell_type": "code",
      "source": [
        "s = input(\"문자열을 입력하시오:\")\n",
        "\n",
        "s1 = s[::-1]   #문자열을 거꾸로 만든다.\n",
        "\n",
        "if(s==s1):\n",
        "  print(\"회문입니다.\")\n",
        "else:\n",
        "  print(\"회문이 아닙니다.\")"
      ],
      "metadata": {
        "colab": {
          "base_uri": "https://localhost:8080/"
        },
        "id": "5-zwt5WUG_m5",
        "outputId": "54db082b-19e4-49ed-c062-c68173ea4500"
      },
      "execution_count": 72,
      "outputs": [
        {
          "output_type": "stream",
          "name": "stdout",
          "text": [
            "문자열을 입력하시오:dad\n",
            "회문입니다.\n"
          ]
        }
      ]
    },
    {
      "cell_type": "code",
      "source": [
        "\"ABCabc\".isalpha()\n",
        "# True\n",
        "\"123\".isdigit()\n",
        "# True\n",
        "\"abc\".islower()\n",
        "# True"
      ],
      "metadata": {
        "colab": {
          "base_uri": "https://localhost:8080/"
        },
        "id": "nHe7AmC1He5k",
        "outputId": "548e37e1-3e90-4015-f8cd-c94ebed53286"
      },
      "execution_count": 74,
      "outputs": [
        {
          "output_type": "execute_result",
          "data": {
            "text/plain": [
              "True"
            ]
          },
          "metadata": {},
          "execution_count": 74
        }
      ]
    },
    {
      "cell_type": "code",
      "source": [
        "class Avante:\n",
        "  def __init__(self, price): #initialization \n",
        "    print(\"객체생성\")\n",
        "    print(price)\n",
        "oshAvante = Avante(2500)\n"
      ],
      "metadata": {
        "colab": {
          "base_uri": "https://localhost:8080/"
        },
        "id": "wDNahbWFp8Sf",
        "outputId": "99395602-41d5-4f79-85ea-2c683639bc70"
      },
      "execution_count": 9,
      "outputs": [
        {
          "output_type": "stream",
          "name": "stdout",
          "text": [
            "객체생성\n",
            "2500\n"
          ]
        }
      ]
    },
    {
      "cell_type": "code",
      "source": [
        "class Sonata:\n",
        "  def __init__(self, price):\n",
        "    self.price=price\n",
        "    \n",
        "kmjSonata=Sonata(2500)\n",
        "kmjSonata.price\n",
        "\n",
        "kcsSonata = Sonata(3000)\n"
      ],
      "metadata": {
        "colab": {
          "base_uri": "https://localhost:8080/"
        },
        "id": "EOG6Iefcqz1A",
        "outputId": "33fbef19-f89f-4d57-e1a4-3641e67eee6d"
      },
      "execution_count": 2,
      "outputs": [
        {
          "output_type": "stream",
          "name": "stdout",
          "text": [
            "2500\n",
            "3000\n"
          ]
        }
      ]
    },
    {
      "cell_type": "code",
      "source": [
        "class Sonata:\n",
        "  def __init__(self,price,color):\n",
        "    self.price = price\n",
        "    self.color = color\n",
        "\n",
        "  def driving(self):\n",
        "    print(\"주행을 시작합니다\")\n",
        "\n",
        "kmjSonata = Sonata(2500, \"black\")\n",
        "\n",
        "print(kmjSonata.price)\n",
        "print(kmjSonata.color)\n",
        "\n",
        "kmjSonata.driving()\n",
        "\n",
        "Sonata.driving(kmjSonata)"
      ],
      "metadata": {
        "colab": {
          "base_uri": "https://localhost:8080/"
        },
        "id": "5H1QaZ0wtcCJ",
        "outputId": "6dce6b51-3505-421b-ffa5-90c1babb4710"
      },
      "execution_count": 6,
      "outputs": [
        {
          "output_type": "stream",
          "name": "stdout",
          "text": [
            "2500\n",
            "black\n",
            "주행을 시작합니다\n",
            "주행을 시작합니다\n"
          ]
        }
      ]
    },
    {
      "cell_type": "code",
      "source": [
        "class Counter:\n",
        "  def __init__(self):\n",
        "    self.count = 0\n",
        "  \n",
        "  def increament(self):\n",
        "    self.count += 1\n",
        "\n",
        "\n",
        "a = Counter()\n",
        "\n",
        "print(a.count)\n",
        "\n",
        "a.increament()\n",
        "\n",
        "print(a.count)\n",
        "\n",
        "a.increament()\n",
        "\n",
        "print(a.count)"
      ],
      "metadata": {
        "colab": {
          "base_uri": "https://localhost:8080/"
        },
        "id": "eQdyiSkAvpQk",
        "outputId": "a8284d0d-d44a-4a97-9d1d-940b75552df5"
      },
      "execution_count": 12,
      "outputs": [
        {
          "output_type": "stream",
          "name": "stdout",
          "text": [
            "0\n",
            "1\n",
            "2\n"
          ]
        }
      ]
    },
    {
      "cell_type": "code",
      "source": [
        "class Counter:\n",
        "  def __init__(self):\n",
        "    self.count = 0\n",
        "  def increament(self):\n",
        "    self.count += 1\n",
        "c = Counter()"
      ],
      "metadata": {
        "id": "pytPtvjVwfTA"
      },
      "execution_count": 13,
      "outputs": []
    },
    {
      "cell_type": "code",
      "source": [
        "class Counter:\n",
        "  def __init__(self, initValue=0):\n",
        "    self.count = initValue\n",
        "  def increament(self):\n",
        "    self.count +=1\n",
        "\n",
        "a = Counter(100)\n",
        "b = Counter()"
      ],
      "metadata": {
        "id": "tbIkNX0ewqBK"
      },
      "execution_count": 14,
      "outputs": []
    },
    {
      "cell_type": "code",
      "source": [
        "import math \n",
        "\n",
        "class Circle:  # Circle 클래스를 정의한다.\n",
        "  def __init__ (self, radius=0):\n",
        "    self.radius=radius\n",
        "\n",
        "  def getArea(self):\n",
        "    return math.pi * self.radius * self.radius\n",
        "\n",
        "  def getPerimeter(self):\n",
        "    return 2 * math.pi * self.radius\n",
        "\n",
        "c = Circle(10)  # Circle 객체를 생성한다.\n",
        "print(\"원의 면적\", c.getArea())\n",
        "print(\"원의 둘레\", c.getPerimeter())"
      ],
      "metadata": {
        "colab": {
          "base_uri": "https://localhost:8080/"
        },
        "id": "7kxWrg7cxrjN",
        "outputId": "4d024301-ad32-4189-d543-1d7e6a2c1d13"
      },
      "execution_count": 15,
      "outputs": [
        {
          "output_type": "stream",
          "name": "stdout",
          "text": [
            "원의 면적 314.1592653589793\n",
            "원의 둘레 62.83185307179586\n"
          ]
        }
      ]
    },
    {
      "cell_type": "code",
      "source": [
        "class Car:\n",
        "  def __init__(self, speed, color, model):\n",
        "    print(\"자동차 객체를 생성하였습니다.\")\n",
        "    self.__speed = speed   # __ 언더바를 통해 정보은닉 가능능\n",
        "    self.color = color\n",
        "    self.model = model\n",
        "\n",
        "  def getSpeed(self):\n",
        "    return self.__speed\n",
        "  def setSpeed(self, speed):\n",
        "    self.__speed = speed\n",
        "\n",
        "newCar = Car(0,\"blue\",\"E-class\")\n",
        "print(newCar.getSpeed())\n",
        "\n",
        "newCar.setSpeed(10)\n",
        "print(newCar.getSpeed())\n"
      ],
      "metadata": {
        "colab": {
          "base_uri": "https://localhost:8080/"
        },
        "id": "sMI2oZ1GyfH1",
        "outputId": "589d269a-49de-4510-f540-a3af30338c6c"
      },
      "execution_count": 30,
      "outputs": [
        {
          "output_type": "stream",
          "name": "stdout",
          "text": [
            "자동차 객체를 생성하였습니다.\n",
            "0\n",
            "10\n",
            "자동차의 색상은 blue\n",
            "자동차의 모델은 E-class\n"
          ]
        }
      ]
    },
    {
      "cell_type": "code",
      "source": [
        "class Counter:\n",
        "  value = 0\n",
        "  def __init__(self):\n",
        "    Counter.value += 1\n",
        "    self.count = Counter.value\n",
        "\n",
        "a = Counter()\n",
        "\n",
        "print(a.count)\n",
        "\n",
        "b = Counter()\n",
        "\n",
        "print(b.count)\n",
        "\n",
        "print(a==b)"
      ],
      "metadata": {
        "colab": {
          "base_uri": "https://localhost:8080/"
        },
        "id": "zeZFamDh6ea-",
        "outputId": "c8991cde-5d09-4d42-c46c-bde73ad7f4c0"
      },
      "execution_count": 34,
      "outputs": [
        {
          "output_type": "stream",
          "name": "stdout",
          "text": [
            "1\n",
            "2\n",
            "False\n"
          ]
        }
      ]
    },
    {
      "cell_type": "code",
      "source": [
        "class Counter:\n",
        "  def __init__(self, value):\n",
        "    self.count = value\n",
        "  def __eq__(self, other):\n",
        "    print(\"eq메소드 실행!\")\n",
        "    return self.count == other.count\n",
        "  def __str__(self):\n",
        "    return \"객체 출력!\"\n",
        "\n",
        "a = Counter(10)\n",
        "b = Counter(10)\n",
        "\n",
        "print(\"=================\")\n",
        "print(a==b)\n",
        "\n",
        "print(a)"
      ],
      "metadata": {
        "colab": {
          "base_uri": "https://localhost:8080/"
        },
        "id": "bouozH218-yP",
        "outputId": "63a6470c-68dc-49a2-c544-13406082106d"
      },
      "execution_count": 40,
      "outputs": [
        {
          "output_type": "stream",
          "name": "stdout",
          "text": [
            "=================\n",
            "eq메소드 실행!\n",
            "True\n",
            "객체 출력!\n"
          ]
        }
      ]
    },
    {
      "cell_type": "code",
      "source": [
        "class Vector2D:\n",
        "  def __init__(self,x,y):\n",
        "    self.x = x \n",
        "    self.y = y\n",
        "\n",
        "  def __add__(self, other):\n",
        "   # print(self.x, other.x)\n",
        "   # print(self.y, other.y)\n",
        "   # print(self.x + other.x, self.y + other.y)\n",
        "    return Vector2D(self.x + other.x, self.y + other.y)\n",
        "    \n",
        "  def __str__(self):\n",
        "    return f'({self.x}, {self.y})'\n",
        "    \n",
        "u = Vector2D(0,1)\n",
        "v = Vector2D(1,0)\n",
        "\n",
        "a = u + v\n",
        "\n",
        "print(a)"
      ],
      "metadata": {
        "colab": {
          "base_uri": "https://localhost:8080/"
        },
        "id": "xOf0lLsy_UzM",
        "outputId": "293fe9fa-3d8f-4f3f-986e-1942a70db88f"
      },
      "execution_count": 58,
      "outputs": [
        {
          "output_type": "stream",
          "name": "stdout",
          "text": [
            "(1, 1)\n"
          ]
        }
      ]
    },
    {
      "cell_type": "code",
      "source": [
        "class Car:    #부모 \n",
        "  def __init__(self, Car_price, color, km):\n",
        "    self.Car_price = Car_price # = 3000\n",
        "    self.color = color # = \"red\"\n",
        "    self.km = km # = \"12km\"\n",
        "\n",
        "class Avante(Car):      #자식식\n",
        "  def __init__(self, Car_price,  color, km, year):\n",
        "    super().__init__(Car_price, color, km)\n",
        "    #self.Car_price = Car_price # = 3000\n",
        "    #self.color = color # = \"red\"\n",
        "    #self.km = km # = \"12km\"                  #부모에게 항목들을 상속받음\n",
        "    self.year = year\n",
        "\n",
        "kmjAvante = Avante(3000, \"red\", \"12km\", \"2023\")\n",
        "kmjAvante.Car_price"
      ],
      "metadata": {
        "colab": {
          "base_uri": "https://localhost:8080/"
        },
        "id": "aFU9QOVIB1LI",
        "outputId": "e78594f2-7120-4d91-ac9e-3daad611b8af"
      },
      "execution_count": 60,
      "outputs": [
        {
          "output_type": "execute_result",
          "data": {
            "text/plain": [
              "3000"
            ]
          },
          "metadata": {},
          "execution_count": 60
        }
      ]
    }
  ]
}
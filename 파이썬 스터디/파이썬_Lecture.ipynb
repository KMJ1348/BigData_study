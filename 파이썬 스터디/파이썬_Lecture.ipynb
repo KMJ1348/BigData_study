{
  "nbformat": 4,
  "nbformat_minor": 0,
  "metadata": {
    "colab": {
      "provenance": []
    },
    "kernelspec": {
      "name": "python3",
      "display_name": "Python 3"
    },
    "language_info": {
      "name": "python"
    }
  },
  "cells": [
    {
      "cell_type": "code",
      "execution_count": 1,
      "metadata": {
        "colab": {
          "base_uri": "https://localhost:8080/"
        },
        "id": "QHz910iJSY-T",
        "outputId": "b22f9f06-6284-400b-afd8-c9f2295728e8"
      },
      "outputs": [
        {
          "output_type": "execute_result",
          "data": {
            "text/plain": [
              "314.0"
            ]
          },
          "metadata": {},
          "execution_count": 1
        }
      ],
      "source": [
        "3.14 * 10 * 10"
      ]
    },
    {
      "cell_type": "code",
      "source": [
        "3.14 * 10**2"
      ],
      "metadata": {
        "colab": {
          "base_uri": "https://localhost:8080/"
        },
        "id": "8kDZg31BTN7-",
        "outputId": "9d369172-8942-45a7-a897-106c643faf9f"
      },
      "execution_count": 2,
      "outputs": [
        {
          "output_type": "execute_result",
          "data": {
            "text/plain": [
              "314.0"
            ]
          },
          "metadata": {},
          "execution_count": 2
        }
      ]
    },
    {
      "cell_type": "code",
      "source": [
        "import math\n",
        "math.sin(math.radians(40))"
      ],
      "metadata": {
        "colab": {
          "base_uri": "https://localhost:8080/"
        },
        "id": "yAwMGEoETS3q",
        "outputId": "587fa8be-5676-4b5a-f5a5-cdec0a3de08b"
      },
      "execution_count": 3,
      "outputs": [
        {
          "output_type": "execute_result",
          "data": {
            "text/plain": [
              "0.6427876096865393"
            ]
          },
          "metadata": {},
          "execution_count": 3
        }
      ]
    },
    {
      "cell_type": "code",
      "source": [
        "\"안녕하세요\""
      ],
      "metadata": {
        "colab": {
          "base_uri": "https://localhost:8080/",
          "height": 35
        },
        "id": "ViNjYdzGTnLc",
        "outputId": "ca0699e0-b527-4531-8742-d7acee5df98b"
      },
      "execution_count": 4,
      "outputs": [
        {
          "output_type": "execute_result",
          "data": {
            "text/plain": [
              "'안녕하세요'"
            ],
            "application/vnd.google.colaboratory.intrinsic+json": {
              "type": "string"
            }
          },
          "metadata": {},
          "execution_count": 4
        }
      ]
    },
    {
      "cell_type": "code",
      "source": [
        "'안녕하세요'"
      ],
      "metadata": {
        "colab": {
          "base_uri": "https://localhost:8080/",
          "height": 35
        },
        "id": "KnHxfoBqTtaN",
        "outputId": "aa1875ab-6ca7-40d2-979f-f12e481dd032"
      },
      "execution_count": 6,
      "outputs": [
        {
          "output_type": "execute_result",
          "data": {
            "text/plain": [
              "'안녕하세요'"
            ],
            "application/vnd.google.colaboratory.intrinsic+json": {
              "type": "string"
            }
          },
          "metadata": {},
          "execution_count": 6
        }
      ]
    },
    {
      "cell_type": "code",
      "source": [
        "print('안녕하세요')"
      ],
      "metadata": {
        "colab": {
          "base_uri": "https://localhost:8080/"
        },
        "id": "FMYyAvV5T0Ov",
        "outputId": "687e72cf-49cd-47e8-82ee-e65d37a2e6c7"
      },
      "execution_count": 7,
      "outputs": [
        {
          "output_type": "stream",
          "name": "stdout",
          "text": [
            "안녕하세요\n"
          ]
        }
      ]
    },
    {
      "cell_type": "code",
      "source": [
        "print(\"결과값은\",10,\"입니다.\")"
      ],
      "metadata": {
        "colab": {
          "base_uri": "https://localhost:8080/"
        },
        "id": "d8njtKSCT-3x",
        "outputId": "1f3ab767-b293-4b52-ffd8-47bc40e38c24"
      },
      "execution_count": 11,
      "outputs": [
        {
          "output_type": "stream",
          "name": "stdout",
          "text": [
            "결과값은 10 입니다.\n"
          ]
        }
      ]
    },
    {
      "cell_type": "code",
      "source": [
        "\"나의\" + \"고양이\""
      ],
      "metadata": {
        "colab": {
          "base_uri": "https://localhost:8080/",
          "height": 35
        },
        "id": "4ZyNTPM-Ucx_",
        "outputId": "ef8ebe17-dbdc-4e71-d49e-e0c0ccded23a"
      },
      "execution_count": 12,
      "outputs": [
        {
          "output_type": "execute_result",
          "data": {
            "text/plain": [
              "'나의고양이'"
            ],
            "application/vnd.google.colaboratory.intrinsic+json": {
              "type": "string"
            }
          },
          "metadata": {},
          "execution_count": 12
        }
      ]
    },
    {
      "cell_type": "code",
      "source": [
        "\"Hello\"*10"
      ],
      "metadata": {
        "colab": {
          "base_uri": "https://localhost:8080/",
          "height": 35
        },
        "id": "4vMNR44zUfNZ",
        "outputId": "2acb38d4-45dc-4d01-f953-9c61460efce5"
      },
      "execution_count": 13,
      "outputs": [
        {
          "output_type": "execute_result",
          "data": {
            "text/plain": [
              "'HelloHelloHelloHelloHelloHelloHelloHelloHelloHello'"
            ],
            "application/vnd.google.colaboratory.intrinsic+json": {
              "type": "string"
            }
          },
          "metadata": {},
          "execution_count": 13
        }
      ]
    },
    {
      "cell_type": "code",
      "source": [
        "print(\"2+3=\", 2+3)"
      ],
      "metadata": {
        "colab": {
          "base_uri": "https://localhost:8080/"
        },
        "id": "Jt26L3YgUpSA",
        "outputId": "7bd5e155-ae93-4b07-cf4b-2f5499e22480"
      },
      "execution_count": 14,
      "outputs": [
        {
          "output_type": "stream",
          "name": "stdout",
          "text": [
            "2+3= 5\n"
          ]
        }
      ]
    },
    {
      "cell_type": "code",
      "source": [
        "x = 10000\n",
        "y = 20000"
      ],
      "metadata": {
        "id": "VsyWmA0RVC0v"
      },
      "execution_count": 15,
      "outputs": []
    },
    {
      "cell_type": "code",
      "source": [
        "print(x)"
      ],
      "metadata": {
        "colab": {
          "base_uri": "https://localhost:8080/"
        },
        "id": "QE8Huqv4VF4a",
        "outputId": "8f1ba274-fc97-48f8-a027-7f4f8b53d437"
      },
      "execution_count": 16,
      "outputs": [
        {
          "output_type": "stream",
          "name": "stdout",
          "text": [
            "10000\n"
          ]
        }
      ]
    },
    {
      "cell_type": "code",
      "source": [
        "sum = x+y"
      ],
      "metadata": {
        "id": "2xZguD-XVQvX"
      },
      "execution_count": 17,
      "outputs": []
    },
    {
      "cell_type": "code",
      "source": [
        "print(\"합은\", sum)"
      ],
      "metadata": {
        "colab": {
          "base_uri": "https://localhost:8080/"
        },
        "id": "U7E214ZEVTo8",
        "outputId": "21732095-ca6d-4a98-bc92-35eeb10f60c1"
      },
      "execution_count": 19,
      "outputs": [
        {
          "output_type": "stream",
          "name": "stdout",
          "text": [
            "합은 30000\n"
          ]
        }
      ]
    },
    {
      "cell_type": "code",
      "source": [
        "radius=10"
      ],
      "metadata": {
        "id": "ue8JnxBnVZku"
      },
      "execution_count": 20,
      "outputs": []
    },
    {
      "cell_type": "code",
      "source": [
        "area = 3.14 * radius * radius"
      ],
      "metadata": {
        "id": "JNgwVjvdVcer"
      },
      "execution_count": 21,
      "outputs": []
    },
    {
      "cell_type": "code",
      "source": [
        "print(\"반지름\", radius, \"인 원의 면적=\", area)"
      ],
      "metadata": {
        "colab": {
          "base_uri": "https://localhost:8080/"
        },
        "id": "PWK8VgWRVf3q",
        "outputId": "40a98ec0-16c6-4462-d379-d45580e6b8bb"
      },
      "execution_count": 23,
      "outputs": [
        {
          "output_type": "stream",
          "name": "stdout",
          "text": [
            "반지름 10 인 원의 면적= 314.0\n"
          ]
        }
      ]
    },
    {
      "cell_type": "code",
      "source": [
        "type(12.30) #자료형을 알 수 있음"
      ],
      "metadata": {
        "colab": {
          "base_uri": "https://localhost:8080/"
        },
        "id": "UZPEjgf9Vj1X",
        "outputId": "01cce9cf-a384-464c-ca3a-3bc182c1d108"
      },
      "execution_count": 28,
      "outputs": [
        {
          "output_type": "execute_result",
          "data": {
            "text/plain": [
              "float"
            ]
          },
          "metadata": {},
          "execution_count": 28
        }
      ]
    },
    {
      "cell_type": "code",
      "source": [
        "type(\"hello\")"
      ],
      "metadata": {
        "colab": {
          "base_uri": "https://localhost:8080/"
        },
        "id": "waqTgJB-W8P7",
        "outputId": "f320d5c9-3a9f-4951-f538-83516001f067"
      },
      "execution_count": 25,
      "outputs": [
        {
          "output_type": "execute_result",
          "data": {
            "text/plain": [
              "str"
            ]
          },
          "metadata": {},
          "execution_count": 25
        }
      ]
    },
    {
      "cell_type": "code",
      "source": [
        "x = y = z = 0\n",
        "x,y,z = 10, 20, 30\n",
        "x,y = y,x\n"
      ],
      "metadata": {
        "id": "UjVZWYN2XT6a"
      },
      "execution_count": 34,
      "outputs": []
    },
    {
      "cell_type": "code",
      "source": [
        "x=1000\n",
        "print(\"초깃값 x=\", x)\n",
        "x +=2;\n",
        "print(\"x +=2 후의 x=\", x)\n",
        "x -=2;\n",
        "print(\"x -=2 후의 x=\", x)\n",
        "\n",
        "# x += y  === x = x+y"
      ],
      "metadata": {
        "colab": {
          "base_uri": "https://localhost:8080/"
        },
        "id": "52OwsPtqX1mt",
        "outputId": "e1f3aaf9-0a12-4f8f-a3fa-365dd487bdc2"
      },
      "execution_count": 36,
      "outputs": [
        {
          "output_type": "stream",
          "name": "stdout",
          "text": [
            "초깃값 x= 1000\n",
            "x +=2 후의 x= 1002\n",
            "x -=2 후의 x= 1000\n"
          ]
        }
      ]
    },
    {
      "cell_type": "code",
      "source": [
        "x=3.14\n",
        "y=str(x)\n",
        "print(y)\n",
        "print(type(y))"
      ],
      "metadata": {
        "colab": {
          "base_uri": "https://localhost:8080/"
        },
        "id": "RPZWBRYZYqMv",
        "outputId": "e609f15f-c29a-4f6c-e061-4959030d89f7"
      },
      "execution_count": 39,
      "outputs": [
        {
          "output_type": "stream",
          "name": "stdout",
          "text": [
            "3.14\n",
            "<class 'str'>\n"
          ]
        }
      ]
    },
    {
      "cell_type": "code",
      "source": [
        "price = 12345\n",
        "tax = price * 0.075\n",
        "tax = round(tax,2) # round = 반올림 (변수명, 반올림하고싶은 위치)\n",
        "print(tax)"
      ],
      "metadata": {
        "colab": {
          "base_uri": "https://localhost:8080/",
          "height": 35
        },
        "id": "D_WGXul3Y91d",
        "outputId": "bc8ffb50-5624-4df2-a774-7ac85b7b0794"
      },
      "execution_count": 52,
      "outputs": [
        {
          "output_type": "execute_result",
          "data": {
            "text/plain": [
              "'tax = round(tax,2) # round = 반올림 (변수명, 반올림하고싶은 위치)\\nprint(tax)'"
            ],
            "application/vnd.google.colaboratory.intrinsic+json": {
              "type": "string"
            }
          },
          "metadata": {},
          "execution_count": 52
        }
      ]
    },
    {
      "cell_type": "code",
      "source": [
        "msg = \"철수가 '안녕' 이라고 말했습니다.\"\n",
        "print(msg)"
      ],
      "metadata": {
        "colab": {
          "base_uri": "https://localhost:8080/"
        },
        "id": "q9JVxdukZRFa",
        "outputId": "60977387-8185-48a9-a08a-299fffd59e60"
      },
      "execution_count": 42,
      "outputs": [
        {
          "output_type": "stream",
          "name": "stdout",
          "text": [
            "철수가 '안녕' 이라고 말했습니다.\n"
          ]
        }
      ]
    },
    {
      "cell_type": "code",
      "source": [
        "a =\"\"\"  안녕하세요   \n",
        "  김명진 입니다.\n",
        "  아아아아afeafadsf123\"\"\"\n",
        "print(a)  # \"\"\" ~~~~~ \"\"\" , ''' ~~~~~ ''' 큰따옴표, 작은따옴표는 문단을 구성할때"
      ],
      "metadata": {
        "colab": {
          "base_uri": "https://localhost:8080/"
        },
        "id": "kCFb_mFUZzle",
        "outputId": "90791d94-588a-452f-94bb-57e77db46dd8"
      },
      "execution_count": 51,
      "outputs": [
        {
          "output_type": "stream",
          "name": "stdout",
          "text": [
            "  안녕하세요   \n",
            "  김명진 입니다.\n",
            "  아아아아afeafadsf123\n"
          ]
        }
      ]
    },
    {
      "cell_type": "code",
      "source": [
        "print(\"말 한마디로 \\n 천냥빚을 갚는다.\")\n",
        "# \\n = 줄바꿈\n",
        "#    \\t = 탭문자\n",
        "#    \\\\ = 역슬래시 자체를 넣고 싶을 때\n",
        "#    \\\" = 큰따옴표 자체\n",
        "#    \\' = 작은따옴표 자체"
      ],
      "metadata": {
        "colab": {
          "base_uri": "https://localhost:8080/"
        },
        "id": "-MYP9tZ0c7Lt",
        "outputId": "e055f86a-3ef8-4e67-aa8a-793e46ccbb97"
      },
      "execution_count": 61,
      "outputs": [
        {
          "output_type": "stream",
          "name": "stdout",
          "text": [
            "말 한마디로 \n",
            " 천냥빚을 갚는다.\n"
          ]
        }
      ]
    },
    {
      "cell_type": "code",
      "source": [
        "# 0   1    2  3  4  5  6  7  8  9  10\n",
        "# H   e    l  l  o     w  o  r  l  d\n",
        "# -11 -10 -9 -8 -7 -6 -5 -4 -3 -2 -1 \n",
        "s = \"Hello World\"\n",
        "print(s[0]+s[6])\n",
        "\n",
        "print(s[-1])\n",
        "print(s[0:2]) # :를 통해 0번째 인덱스에서 2번째 인덱스 전 까지 출력 "
      ],
      "metadata": {
        "colab": {
          "base_uri": "https://localhost:8080/"
        },
        "id": "TBi8jQjDdnMO",
        "outputId": "139d82b0-8619-45e6-a663-585a1f68ac7d"
      },
      "execution_count": 66,
      "outputs": [
        {
          "output_type": "stream",
          "name": "stdout",
          "text": [
            "HW\n",
            "d\n",
            "He\n"
          ]
        }
      ]
    },
    {
      "cell_type": "code",
      "source": [
        "name = \"Harry Parter\"\n",
        "lower_name = name.lower()\n",
        "print(name)\n",
        "\n",
        "\n",
        "name = \"Harry Parter\"\n",
        "new_name = name.replace(\"Parter\", \"Porter\")\n",
        "print(new_name)"
      ],
      "metadata": {
        "colab": {
          "base_uri": "https://localhost:8080/"
        },
        "id": "4zOc4IPlfSOP",
        "outputId": "c0620e7b-9bee-4f67-babc-bec9c4921669"
      },
      "execution_count": 71,
      "outputs": [
        {
          "output_type": "stream",
          "name": "stdout",
          "text": [
            "Harry Parter\n",
            "Harry Porter\n"
          ]
        }
      ]
    },
    {
      "cell_type": "code",
      "source": [
        "name=input(\"이름을 입력하시오: \")\n",
        "print(name)"
      ],
      "metadata": {
        "colab": {
          "base_uri": "https://localhost:8080/"
        },
        "id": "whLZoaE2fo6H",
        "outputId": "8fd9238f-6cc0-46e3-dbe3-b5507caf7fec"
      },
      "execution_count": 76,
      "outputs": [
        {
          "output_type": "stream",
          "name": "stdout",
          "text": [
            "이름을 입력하시오: 홍길동\n",
            "홍길동\n"
          ]
        }
      ]
    },
    {
      "cell_type": "code",
      "source": [
        "x = input(\"첫 번째 정수를 입력하시오:\")\n",
        "y = input(\"두 번째 정수를 입력하시오:\")\n",
        "sum = x+y\n",
        "print(\"합은\", sum)"
      ],
      "metadata": {
        "colab": {
          "base_uri": "https://localhost:8080/"
        },
        "id": "hAhHQ6iqf-Tg",
        "outputId": "03dc6e7a-692b-4232-f860-5eb2c4b86a12"
      },
      "execution_count": 77,
      "outputs": [
        {
          "output_type": "stream",
          "name": "stdout",
          "text": [
            "첫 번째 정수를 입력하시오:300\n",
            "두 번째 정수를 입력하시오:400\n",
            "합은 300400\n"
          ]
        }
      ]
    },
    {
      "cell_type": "code",
      "source": [
        "s1 = int(input(\"첫 번째 정수를 입력하시오:\"))\n",
        "print(s1)\n",
        "type(s1)  "
      ],
      "metadata": {
        "colab": {
          "base_uri": "https://localhost:8080/"
        },
        "id": "jQ05VFgygLis",
        "outputId": "a5d80a18-d05f-445e-bbe0-2ba3c2cfbc9d"
      },
      "execution_count": 80,
      "outputs": [
        {
          "output_type": "stream",
          "name": "stdout",
          "text": [
            "첫 번째 정수를 입력하시오:100\n",
            "100\n"
          ]
        },
        {
          "output_type": "execute_result",
          "data": {
            "text/plain": [
              "int"
            ]
          },
          "metadata": {},
          "execution_count": 80
        }
      ]
    },
    {
      "cell_type": "code",
      "source": [
        "x = 100\n",
        "y = 200\n",
        "print(x, \"와\", y, \"의 합=\", x+y)\n",
        "\n",
        "print(f\"{x}와 {y}의 합={x+y}\")"
      ],
      "metadata": {
        "colab": {
          "base_uri": "https://localhost:8080/"
        },
        "id": "SI4oqFhEgcOZ",
        "outputId": "7e8cf0c6-96f1-4b5e-a1c5-aac1f4f3034a"
      },
      "execution_count": 83,
      "outputs": [
        {
          "output_type": "stream",
          "name": "stdout",
          "text": [
            "100 와 200 의 합= 300\n",
            "100와 200의 합=300\n"
          ]
        }
      ]
    },
    {
      "cell_type": "code",
      "source": [
        "py = 7.1234\n",
        "print(\"테스트 출력 %10.1f\" %py) # 소수점뒤의 숫자는 몇번째 자리 까지 출력, f는 float 형으로 나타내기 위함"
      ],
      "metadata": {
        "colab": {
          "base_uri": "https://localhost:8080/"
        },
        "id": "-eCVaxePgj4E",
        "outputId": "cb1caf0b-cf7d-464e-9887-7d51f71f4cc1"
      },
      "execution_count": 87,
      "outputs": [
        {
          "output_type": "stream",
          "name": "stdout",
          "text": [
            "테스트 출력        7.1\n"
          ]
        }
      ]
    },
    {
      "cell_type": "code",
      "source": [
        "a = \"안녕하세요\"\n",
        "a[2]"
      ],
      "metadata": {
        "colab": {
          "base_uri": "https://localhost:8080/",
          "height": 35
        },
        "id": "0IKgnhAh6Ucj",
        "outputId": "1eeee59c-752d-49df-ee47-96ca0e093e46"
      },
      "execution_count": 93,
      "outputs": [
        {
          "output_type": "execute_result",
          "data": {
            "text/plain": [
              "'하'"
            ],
            "application/vnd.google.colaboratory.intrinsic+json": {
              "type": "string"
            }
          },
          "metadata": {},
          "execution_count": 93
        }
      ]
    },
    {
      "cell_type": "code",
      "source": [
        "a[0:2]"
      ],
      "metadata": {
        "colab": {
          "base_uri": "https://localhost:8080/",
          "height": 35
        },
        "id": "YeUxhklT6qzO",
        "outputId": "354904a8-8748-43ed-cb41-9fd0b8efbb08"
      },
      "execution_count": 91,
      "outputs": [
        {
          "output_type": "execute_result",
          "data": {
            "text/plain": [
              "'안녕'"
            ],
            "application/vnd.google.colaboratory.intrinsic+json": {
              "type": "string"
            }
          },
          "metadata": {},
          "execution_count": 91
        }
      ]
    },
    {
      "cell_type": "code",
      "source": [
        "a[0:5:2] #특수 슬라이싱"
      ],
      "metadata": {
        "colab": {
          "base_uri": "https://localhost:8080/",
          "height": 35
        },
        "id": "WFDYhsO76s1F",
        "outputId": "2547d770-973c-406d-eaa0-95bd1efa4249"
      },
      "execution_count": 92,
      "outputs": [
        {
          "output_type": "execute_result",
          "data": {
            "text/plain": [
              "'안하요'"
            ],
            "application/vnd.google.colaboratory.intrinsic+json": {
              "type": "string"
            }
          },
          "metadata": {},
          "execution_count": 92
        }
      ]
    },
    {
      "cell_type": "code",
      "source": [
        "a[-2] #인버스 인덱싱"
      ],
      "metadata": {
        "colab": {
          "base_uri": "https://localhost:8080/",
          "height": 35
        },
        "id": "NRsEgksE6yOb",
        "outputId": "bba069aa-d0a6-40f8-ccc6-af48f4296e1f"
      },
      "execution_count": 95,
      "outputs": [
        {
          "output_type": "execute_result",
          "data": {
            "text/plain": [
              "'세'"
            ],
            "application/vnd.google.colaboratory.intrinsic+json": {
              "type": "string"
            }
          },
          "metadata": {},
          "execution_count": 95
        }
      ]
    },
    {
      "cell_type": "code",
      "source": [
        "a[::-1] # 거꾸로 출력"
      ],
      "metadata": {
        "colab": {
          "base_uri": "https://localhost:8080/",
          "height": 35
        },
        "id": "34uZ7tCK7AKT",
        "outputId": "5a86616f-03ef-44dd-d243-12f4336a7051"
      },
      "execution_count": 97,
      "outputs": [
        {
          "output_type": "execute_result",
          "data": {
            "text/plain": [
              "'요세하녕안'"
            ],
            "application/vnd.google.colaboratory.intrinsic+json": {
              "type": "string"
            }
          },
          "metadata": {},
          "execution_count": 97
        }
      ]
    },
    {
      "cell_type": "code",
      "source": [
        "a[::-2]"
      ],
      "metadata": {
        "colab": {
          "base_uri": "https://localhost:8080/",
          "height": 35
        },
        "id": "_1GwLXXW7ENE",
        "outputId": "5e4ac060-52e5-40bf-b683-582e72b90ead"
      },
      "execution_count": 98,
      "outputs": [
        {
          "output_type": "execute_result",
          "data": {
            "text/plain": [
              "'요하안'"
            ],
            "application/vnd.google.colaboratory.intrinsic+json": {
              "type": "string"
            }
          },
          "metadata": {},
          "execution_count": 98
        }
      ]
    },
    {
      "cell_type": "code",
      "source": [
        "price = int(input(\"상품의 가격:\"))\n",
        "\n",
        "if price > 20000:\n",
        "  shipping_cost=0\n",
        "else : \n",
        "  shipping_cost=3000\n",
        "\n",
        "print(\"배송비 = \",shipping_cost)"
      ],
      "metadata": {
        "colab": {
          "base_uri": "https://localhost:8080/"
        },
        "id": "W3aLlhyPGb1D",
        "outputId": "eae79e24-7bd6-4f1c-8f20-3992245a956e"
      },
      "execution_count": 104,
      "outputs": [
        {
          "output_type": "stream",
          "name": "stdout",
          "text": [
            "상품의 가격:30000\n",
            "배송비 =  0\n"
          ]
        }
      ]
    },
    {
      "cell_type": "code",
      "source": [
        "#들여쓰기가 아주 중요하다. if-else 문에서도 들여쓰기가 잘못되면 오류가 발생한다."
      ],
      "metadata": {
        "id": "1tIOnn_2HJQ8"
      },
      "execution_count": null,
      "outputs": []
    },
    {
      "cell_type": "code",
      "source": [
        "radius = 100\n",
        "flag = (radius > 32)\n",
        "print(flag)"
      ],
      "metadata": {
        "colab": {
          "base_uri": "https://localhost:8080/"
        },
        "id": "hHnucWSoHNDX",
        "outputId": "6458a08f-8492-4695-a4d6-86b2d98d5962"
      },
      "execution_count": 106,
      "outputs": [
        {
          "output_type": "stream",
          "name": "stdout",
          "text": [
            "True\n"
          ]
        }
      ]
    },
    {
      "cell_type": "code",
      "source": [
        "#문자열 비교\n",
        "s1=\"Audrey Hepburn\"\n",
        "s2=\"Grace Kelly\"\n",
        "print(s1 < s2) #맨 앞글자가 높은 순서대로 비교한다."
      ],
      "metadata": {
        "colab": {
          "base_uri": "https://localhost:8080/"
        },
        "id": "IkkKJy52HuDC",
        "outputId": "5f86a976-1ce9-430f-d5f5-e3413c847443"
      },
      "execution_count": 107,
      "outputs": [
        {
          "output_type": "stream",
          "name": "stdout",
          "text": [
            "True\n"
          ]
        }
      ]
    },
    {
      "cell_type": "code",
      "source": [
        "from math import sqrt\n",
        "\n",
        "n=sqrt(3.0)\n",
        "if n*n == 3.0 :\n",
        "  print(\"sqrt(3.0)*sqrt(3.0)은 3.0과 같다.\")\n",
        "else :\n",
        "  print(\"sqrt(3.0)*sqrt(3.0)은 3.0과 같지않다.\")"
      ],
      "metadata": {
        "colab": {
          "base_uri": "https://localhost:8080/"
        },
        "id": "b7SLSBUhIy4u",
        "outputId": "5d4ca300-0ce9-4d1a-abce-6bb8d578dca8"
      },
      "execution_count": 109,
      "outputs": [
        {
          "output_type": "stream",
          "name": "stdout",
          "text": [
            "sqrt(3.0)*sqrt(3.0)은 3.0과 같지않다.\n"
          ]
        }
      ]
    },
    {
      "cell_type": "code",
      "source": [
        "x = int(input(\"첫 번째 수 =\"))\n",
        "y = int(input(\"두 번째 수 =\"))\n",
        "max_value = (x if x > y else y)\n",
        "min_value = (y if x > y else x)\n",
        "print(\"큰 수=\", max_value, \"작은 수=\", min_value)"
      ],
      "metadata": {
        "colab": {
          "base_uri": "https://localhost:8080/"
        },
        "id": "NJO9Kq9bJVie",
        "outputId": "f7b642f6-c6db-4dc2-854f-81e49c32755b"
      },
      "execution_count": 112,
      "outputs": [
        {
          "output_type": "stream",
          "name": "stdout",
          "text": [
            "첫 번째 수 =10\n",
            "두 번째 수 =20\n",
            "큰 수= 20 작은 수= 10\n"
          ]
        }
      ]
    },
    {
      "cell_type": "code",
      "source": [
        "number = int(input(\"정수를 입력하시오:\"))\n",
        "\n",
        "if number %2 == 0 :\n",
        "  print(\"짝수입니다.\")\n",
        "else:\n",
        "  print(\"홀수입니다.\")"
      ],
      "metadata": {
        "colab": {
          "base_uri": "https://localhost:8080/"
        },
        "id": "AFf5qTVDKD7b",
        "outputId": "b6be9acf-7018-4222-ac42-6243e8b5cfeb"
      },
      "execution_count": 119,
      "outputs": [
        {
          "output_type": "stream",
          "name": "stdout",
          "text": [
            "정수를 입력하시오:6\n",
            "짝수입니다.\n"
          ]
        }
      ]
    },
    {
      "cell_type": "code",
      "source": [
        "price = int(input(\"가격을 입력하시오:\"))\n",
        "card = input(\"카드종류를 입력하시오:\")\n",
        "\n",
        "if price > 20000 and card == \"python\" :\n",
        "  print(\"배송료가 없습니다.\")\n",
        "else :\n",
        "  print(\"배송료는 3000원 입니다.\")"
      ],
      "metadata": {
        "colab": {
          "base_uri": "https://localhost:8080/"
        },
        "id": "9yIJEjNvLKKI",
        "outputId": "6e46dad4-f985-4e6f-d391-e3119b36ad10"
      },
      "execution_count": 124,
      "outputs": [
        {
          "output_type": "stream",
          "name": "stdout",
          "text": [
            "가격을 입력하시오:10000\n",
            "카드종류를 입력하시오:python\n",
            "배송료는 3000원 입니다.\n"
          ]
        }
      ]
    },
    {
      "cell_type": "code",
      "source": [
        "num = int(input(\"정수를 입력하시오:\"))\n",
        "\n",
        "if num >0:\n",
        "  print(\"양수입니다.\")\n",
        "elif num ==0:\n",
        "  print(\"0입니다.\")\n",
        "else:\n",
        "  print(\"음수입니다.\")"
      ],
      "metadata": {
        "colab": {
          "base_uri": "https://localhost:8080/"
        },
        "id": "FcxJT6UUMOUz",
        "outputId": "3a1d0d92-361c-4a40-8495-d257c076ceff"
      },
      "execution_count": 130,
      "outputs": [
        {
          "output_type": "stream",
          "name": "stdout",
          "text": [
            "정수를 입력하시오:10\n",
            "양수입니다.\n"
          ]
        }
      ]
    },
    {
      "cell_type": "code",
      "source": [
        "num = float(input(\"리히터 규모를 입력하시오:\"))\n",
        "\n",
        "if num<2 :\n",
        "  print(\"지진계에 의해서만 탐지 가능합니다.\")\n",
        "elif num<4 :\n",
        "  print(\"물건들이 흔들리거나 떨어집니다.\")\n",
        "elif num<7 :\n",
        "  print(\"빈약한 건물에 큰 피해가 있습니다.\")\n",
        "elif num<8 :\n",
        "  print(\"지표면에 균열이 발생합니다.\")\n",
        "else :\n",
        "  print(\"대부분의 구조물이 파괴됩니다.\")\n",
        "\n"
      ],
      "metadata": {
        "colab": {
          "base_uri": "https://localhost:8080/"
        },
        "id": "xWfqRhXtM4hS",
        "outputId": "f33d4002-7cbd-4ce8-e064-18fa65431fbb"
      },
      "execution_count": 143,
      "outputs": [
        {
          "output_type": "stream",
          "name": "stdout",
          "text": [
            "리히터 규모를 입력하시오:5.2\n",
            "빈약한 건물에 큰 피해가 있습니다.\n"
          ]
        }
      ]
    },
    {
      "cell_type": "code",
      "source": [
        "num = float(input(\"리히터 규모를 입력하시오:\"))\n",
        "\n",
        "if num >= 8.0 :\n",
        "  print(\"대부분의 구조물이 파괴됩니다.\")\n",
        "elif num>=7.0 :\n",
        "  print(\"지표면에 균열이 발생합니다.\")\n",
        "elif num>=4.0 :\n",
        "  print(\"빈약한 건물에 큰 피해가 있습니다.\")\n",
        "elif num>=2.0 :\n",
        "  print(\"물건들이 흔들리거나 떨어집니다.\")\n",
        "else :\n",
        "  print(\"지진계에 의해서만 탐지 가능합니다.\")"
      ],
      "metadata": {
        "colab": {
          "base_uri": "https://localhost:8080/"
        },
        "id": "AmVjS0yPOD3K",
        "outputId": "83e46da5-c90a-4ea6-beae-14e120a8aca8"
      },
      "execution_count": 145,
      "outputs": [
        {
          "output_type": "stream",
          "name": "stdout",
          "text": [
            "리히터 규모를 입력하시오:5.2\n",
            "빈약한 건물에 큰 피해가 있습니다.\n"
          ]
        }
      ]
    },
    {
      "cell_type": "code",
      "source": [
        "for i in range(5) :\n",
        "  print(i)\n",
        "for i in range(1,6) :\n",
        "  print(i)\n",
        "for i in range(1,6,2) :\n",
        "  print(i)"
      ],
      "metadata": {
        "colab": {
          "base_uri": "https://localhost:8080/"
        },
        "id": "kjYUJ9W4jeBN",
        "outputId": "95afebc4-3889-45d3-a3e6-4e78db3f7d37"
      },
      "execution_count": 150,
      "outputs": [
        {
          "output_type": "stream",
          "name": "stdout",
          "text": [
            "0\n",
            "1\n",
            "2\n",
            "3\n",
            "4\n",
            "1\n",
            "2\n",
            "3\n",
            "4\n",
            "5\n",
            "1\n",
            "3\n",
            "5\n"
          ]
        }
      ]
    },
    {
      "cell_type": "code",
      "source": [
        "for i in range(5, 0, -1):\n",
        "  print(i)"
      ],
      "metadata": {
        "colab": {
          "base_uri": "https://localhost:8080/"
        },
        "id": "IGuu6U4ZkrUH",
        "outputId": "0d7c122d-3621-46d2-ef18-3314594a564a"
      },
      "execution_count": 149,
      "outputs": [
        {
          "output_type": "stream",
          "name": "stdout",
          "text": [
            "5\n",
            "4\n",
            "3\n",
            "2\n",
            "1\n"
          ]
        }
      ]
    },
    {
      "cell_type": "code",
      "source": [
        "for i in range(1,6,1):\n",
        "  print(i, end=\" \")"
      ],
      "metadata": {
        "colab": {
          "base_uri": "https://localhost:8080/"
        },
        "id": "vxB8P6p9k7pL",
        "outputId": "8ff802cf-889a-4f64-ba75-f4374b0ed4ee"
      },
      "execution_count": 153,
      "outputs": [
        {
          "output_type": "stream",
          "name": "stdout",
          "text": [
            "1 2 3 4 5 "
          ]
        }
      ]
    },
    {
      "cell_type": "code",
      "source": [
        "for i in range(10,0,-1):\n",
        "  print(i, end=\" \")"
      ],
      "metadata": {
        "colab": {
          "base_uri": "https://localhost:8080/"
        },
        "id": "3InlzdOhlAyH",
        "outputId": "a3b50e9d-2111-46e2-faa7-0cb06705e392"
      },
      "execution_count": 154,
      "outputs": [
        {
          "output_type": "stream",
          "name": "stdout",
          "text": [
            "10 9 8 7 6 5 4 3 2 1 "
          ]
        }
      ]
    },
    {
      "cell_type": "code",
      "source": [
        "sum = 0\n",
        "n = 10\n",
        "for i in range(1, n+1):\n",
        "  sum = sum + i\n",
        "  print(\"합=\", sum)"
      ],
      "metadata": {
        "colab": {
          "base_uri": "https://localhost:8080/"
        },
        "id": "2j59zwcmlI9D",
        "outputId": "dd64f4fb-1869-4efe-b740-0416856e7d19"
      },
      "execution_count": 155,
      "outputs": [
        {
          "output_type": "stream",
          "name": "stdout",
          "text": [
            "합= 1\n",
            "합= 3\n",
            "합= 6\n",
            "합= 10\n",
            "합= 15\n",
            "합= 21\n",
            "합= 28\n",
            "합= 36\n",
            "합= 45\n",
            "합= 55\n"
          ]
        }
      ]
    },
    {
      "cell_type": "code",
      "source": [
        "for i in range(1,6) :\n",
        "  print(\"9*\", i, \"=\", 9*i)"
      ],
      "metadata": {
        "colab": {
          "base_uri": "https://localhost:8080/"
        },
        "id": "do_Eb3VelSbP",
        "outputId": "5cc08235-0a7b-4cf6-87d2-2def6085974b"
      },
      "execution_count": 157,
      "outputs": [
        {
          "output_type": "stream",
          "name": "stdout",
          "text": [
            "9* 1 = 9\n",
            "9* 2 = 18\n",
            "9* 3 = 27\n",
            "9* 4 = 36\n",
            "9* 5 = 45\n"
          ]
        }
      ]
    },
    {
      "cell_type": "code",
      "source": [
        "TARGET = 2000\n",
        "money = 1000\n",
        "year = 0\n",
        "rate = 0.07\n",
        "\n",
        "while money < TARGET :\n",
        "  money = money + money * rate\n",
        "  year = year + 1\n",
        "  print(year,\"년\")"
      ],
      "metadata": {
        "colab": {
          "base_uri": "https://localhost:8080/"
        },
        "id": "X9twRjFWmBts",
        "outputId": "4893be0d-b181-41e9-c480-ed686642a9bc"
      },
      "execution_count": 160,
      "outputs": [
        {
          "output_type": "stream",
          "name": "stdout",
          "text": [
            "1 년\n",
            "2 년\n",
            "3 년\n",
            "4 년\n",
            "5 년\n",
            "6 년\n",
            "7 년\n",
            "8 년\n",
            "9 년\n",
            "10 년\n",
            "11 년\n"
          ]
        }
      ]
    },
    {
      "cell_type": "code",
      "source": [
        "dan = int(input(\"원하는 단은:\"))\n",
        "i = 1\n",
        "\n",
        "while i <=9:\n",
        "  print(\"%s*%s=%s\" % (dan, i, dan*i))\n",
        "  i=i+1"
      ],
      "metadata": {
        "colab": {
          "base_uri": "https://localhost:8080/"
        },
        "id": "qa84HPqam2kG",
        "outputId": "f043d24b-48fb-40f8-aaf3-8f32c3b73cec"
      },
      "execution_count": 163,
      "outputs": [
        {
          "output_type": "stream",
          "name": "stdout",
          "text": [
            "원하는 단은:9\n",
            "9*1=9\n",
            "9*2=18\n",
            "9*3=27\n",
            "9*4=36\n",
            "9*5=45\n",
            "9*6=54\n",
            "9*7=63\n",
            "9*8=72\n",
            "9*9=81\n"
          ]
        }
      ]
    },
    {
      "cell_type": "code",
      "source": [
        "for i in range(5):\n",
        "  for j in range(5):\n",
        "    print(\"i\", i,\"j\",j)"
      ],
      "metadata": {
        "colab": {
          "base_uri": "https://localhost:8080/"
        },
        "id": "xjFaZdVtn41U",
        "outputId": "adf532ea-2ab3-49ed-e72b-6c081f879af9"
      },
      "execution_count": 165,
      "outputs": [
        {
          "output_type": "stream",
          "name": "stdout",
          "text": [
            "i 0 j 0\n",
            "i 0 j 1\n",
            "i 0 j 2\n",
            "i 0 j 3\n",
            "i 0 j 4\n",
            "i 1 j 0\n",
            "i 1 j 1\n",
            "i 1 j 2\n",
            "i 1 j 3\n",
            "i 1 j 4\n",
            "i 2 j 0\n",
            "i 2 j 1\n",
            "i 2 j 2\n",
            "i 2 j 3\n",
            "i 2 j 4\n",
            "i 3 j 0\n",
            "i 3 j 1\n",
            "i 3 j 2\n",
            "i 3 j 3\n",
            "i 3 j 4\n",
            "i 4 j 0\n",
            "i 4 j 1\n",
            "i 4 j 2\n",
            "i 4 j 3\n",
            "i 4 j 4\n"
          ]
        }
      ]
    },
    {
      "cell_type": "code",
      "source": [
        "for y in range(5):\n",
        "  for x in range(10):\n",
        "    print(\"*\", end=\"\")\n",
        "  print(\"\")"
      ],
      "metadata": {
        "colab": {
          "base_uri": "https://localhost:8080/"
        },
        "id": "0jGv9CTIoew-",
        "outputId": "7f26acc2-7d0d-41cf-b7da-a35e6353dfc8"
      },
      "execution_count": 171,
      "outputs": [
        {
          "output_type": "stream",
          "name": "stdout",
          "text": [
            "**********\n",
            "**********\n",
            "**********\n",
            "**********\n",
            "**********\n"
          ]
        }
      ]
    },
    {
      "cell_type": "code",
      "source": [
        "adj=[\"small\",\"medium\",\"large\"]\n",
        "nouns=[\"apple\",\"banana\",\"grape\"]\n",
        "for x in adj:\n",
        "  for y in nouns:\n",
        "    print(x,y)"
      ],
      "metadata": {
        "colab": {
          "base_uri": "https://localhost:8080/"
        },
        "id": "B1gyjeSZpEuV",
        "outputId": "f6b5ea4a-d491-4f30-e5a3-86a810a95ff3"
      },
      "execution_count": 173,
      "outputs": [
        {
          "output_type": "stream",
          "name": "stdout",
          "text": [
            "small apple\n",
            "small banana\n",
            "small grape\n",
            "medium apple\n",
            "medium banana\n",
            "medium grape\n",
            "large apple\n",
            "large banana\n",
            "large grape\n"
          ]
        }
      ]
    },
    {
      "cell_type": "code",
      "source": [
        "while True:\n",
        "  light = input('신호등 색상을 입력하시오')\n",
        "  if light == 'red':\n",
        "    break\n",
        "    print('정지!!')"
      ],
      "metadata": {
        "colab": {
          "base_uri": "https://localhost:8080/"
        },
        "id": "qrMS1BHTpJM3",
        "outputId": "594b873e-d4d9-4926-8f69-ee18a9872891"
      },
      "execution_count": 175,
      "outputs": [
        {
          "name": "stdout",
          "output_type": "stream",
          "text": [
            "신호등 색상을 입력하시오green\n",
            "신호등 색상을 입력하시오yellow\n",
            "신호등 색상을 입력하시오red\n"
          ]
        }
      ]
    },
    {
      "cell_type": "code",
      "source": [
        "for i in range(1,11):\n",
        "  if i%3 == 0:\n",
        "    continue\n",
        "  print(i,end=\" \")"
      ],
      "metadata": {
        "colab": {
          "base_uri": "https://localhost:8080/"
        },
        "id": "DprcjyZQp99Q",
        "outputId": "9820ec7f-0239-43ea-c0b5-7d659bc14b13"
      },
      "execution_count": 178,
      "outputs": [
        {
          "output_type": "stream",
          "name": "stdout",
          "text": [
            "1 2 4 5 7 8 10 "
          ]
        }
      ]
    }
  ]
}
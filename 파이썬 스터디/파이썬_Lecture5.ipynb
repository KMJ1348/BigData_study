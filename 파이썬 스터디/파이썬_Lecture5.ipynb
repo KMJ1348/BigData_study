{
  "nbformat": 4,
  "nbformat_minor": 0,
  "metadata": {
    "colab": {
      "provenance": [],
      "gpuType": "T4"
    },
    "kernelspec": {
      "name": "python3",
      "display_name": "Python 3"
    },
    "language_info": {
      "name": "python"
    },
    "accelerator": "GPU",
    "gpuClass": "standard"
  },
  "cells": [
    {
      "cell_type": "code",
      "source": [
        "0.현재 작업 디렉토리에 있는 파일 확인하기"
      ],
      "metadata": {
        "id": "N4lS_xfKSE2Y"
      },
      "execution_count": null,
      "outputs": []
    },
    {
      "cell_type": "code",
      "source": [
        "!ls"
      ],
      "metadata": {
        "colab": {
          "base_uri": "https://localhost:8080/"
        },
        "id": "7JsOUss9SHCW",
        "outputId": "b0e1b790-e8b0-4fbd-b8dd-cd14634583cc"
      },
      "execution_count": 4,
      "outputs": [
        {
          "output_type": "stream",
          "name": "stdout",
          "text": [
            "sample_data\n"
          ]
        }
      ]
    },
    {
      "cell_type": "code",
      "source": [
        "1.현재 어디있는지 확인하기"
      ],
      "metadata": {
        "id": "2sOT0-k7SxyE"
      },
      "execution_count": null,
      "outputs": []
    },
    {
      "cell_type": "code",
      "source": [
        "!pwd"
      ],
      "metadata": {
        "colab": {
          "base_uri": "https://localhost:8080/"
        },
        "id": "Cx34472VS0nA",
        "outputId": "e375bcc7-0c1f-4ccb-a857-31736fd9d473"
      },
      "execution_count": 3,
      "outputs": [
        {
          "output_type": "stream",
          "name": "stdout",
          "text": [
            "/content\n"
          ]
        }
      ]
    },
    {
      "cell_type": "code",
      "execution_count": null,
      "metadata": {
        "id": "QzKMaqiIRmhy"
      },
      "outputs": [],
      "source": [
        "2.폴더만들기"
      ]
    },
    {
      "cell_type": "code",
      "source": [
        "!mkdir test"
      ],
      "metadata": {
        "colab": {
          "base_uri": "https://localhost:8080/"
        },
        "id": "VfjzUDweSBfs",
        "outputId": "19d4cf99-aaf6-4485-d798-aaf15e05b1c5"
      },
      "execution_count": 4,
      "outputs": [
        {
          "output_type": "stream",
          "name": "stdout",
          "text": [
            "mkdir: cannot create directory ‘test’: File exists\n"
          ]
        }
      ]
    },
    {
      "cell_type": "code",
      "source": [
        "3.작업 디렉토리 이동하기"
      ],
      "metadata": {
        "id": "5V5n2X_uTDf8"
      },
      "execution_count": null,
      "outputs": []
    },
    {
      "cell_type": "code",
      "source": [
        "!cd test"
      ],
      "metadata": {
        "id": "L-0xVsK7TFw3"
      },
      "execution_count": 6,
      "outputs": []
    },
    {
      "cell_type": "code",
      "source": [
        "!pwd"
      ],
      "metadata": {
        "colab": {
          "base_uri": "https://localhost:8080/"
        },
        "id": "Sb96k0vHTIFt",
        "outputId": "d539e000-5ae3-4bdd-f233-d92d4e6ffe19"
      },
      "execution_count": 7,
      "outputs": [
        {
          "output_type": "stream",
          "name": "stdout",
          "text": [
            "/content\n"
          ]
        }
      ]
    },
    {
      "cell_type": "code",
      "source": [
        "%cd test"
      ],
      "metadata": {
        "colab": {
          "base_uri": "https://localhost:8080/"
        },
        "id": "bIQuUiqFTQOh",
        "outputId": "1b9a49a5-f3f6-4509-922c-94c330ddf5fa"
      },
      "execution_count": 8,
      "outputs": [
        {
          "output_type": "stream",
          "name": "stdout",
          "text": [
            "/content/test\n"
          ]
        }
      ]
    },
    {
      "cell_type": "code",
      "source": [
        "!pwd"
      ],
      "metadata": {
        "colab": {
          "base_uri": "https://localhost:8080/"
        },
        "id": "YKXUTBuTTRpa",
        "outputId": "b738d14d-06f2-481d-87a9-24850d8168b4"
      },
      "execution_count": 9,
      "outputs": [
        {
          "output_type": "stream",
          "name": "stdout",
          "text": [
            "/content/test\n"
          ]
        }
      ]
    },
    {
      "cell_type": "code",
      "source": [
        "import pandas as pd\n",
        "\n",
        "pd.read_csv('/content/chipo.csv') #절대경로를 설정해준다."
      ],
      "metadata": {
        "colab": {
          "base_uri": "https://localhost:8080/",
          "height": 815
        },
        "id": "qNqc9hs7TZgl",
        "outputId": "c38c4d67-5cf8-4779-adba-5c36ebd66eb2"
      },
      "execution_count": 10,
      "outputs": [
        {
          "output_type": "execute_result",
          "data": {
            "text/plain": [
              "      Unnamed: 0  order_id  quantity                              item_name  \\\n",
              "0              0         1         1           Chips and Fresh Tomato Salsa   \n",
              "1              1         1         1                                   Izze   \n",
              "2              2         1         1                       Nantucket Nectar   \n",
              "3              3         1         1  Chips and Tomatillo-Green Chili Salsa   \n",
              "4              4         2         2                           Chicken Bowl   \n",
              "...          ...       ...       ...                                    ...   \n",
              "4617        4617      1833         1                          Steak Burrito   \n",
              "4618        4618      1833         1                          Steak Burrito   \n",
              "4619        4619      1834         1                     Chicken Salad Bowl   \n",
              "4620        4620      1834         1                     Chicken Salad Bowl   \n",
              "4621        4621      1834         1                     Chicken Salad Bowl   \n",
              "\n",
              "                                     choice_description item_price  \n",
              "0                                                   NaN     $2.39   \n",
              "1                                          [Clementine]     $3.39   \n",
              "2                                               [Apple]     $3.39   \n",
              "3                                                   NaN     $2.39   \n",
              "4     [Tomatillo-Red Chili Salsa (Hot), [Black Beans...    $16.98   \n",
              "...                                                 ...        ...  \n",
              "4617  [Fresh Tomato Salsa, [Rice, Black Beans, Sour ...    $11.75   \n",
              "4618  [Fresh Tomato Salsa, [Rice, Sour Cream, Cheese...    $11.75   \n",
              "4619  [Fresh Tomato Salsa, [Fajita Vegetables, Pinto...    $11.25   \n",
              "4620  [Fresh Tomato Salsa, [Fajita Vegetables, Lettu...     $8.75   \n",
              "4621  [Fresh Tomato Salsa, [Fajita Vegetables, Pinto...     $8.75   \n",
              "\n",
              "[4622 rows x 6 columns]"
            ],
            "text/html": [
              "\n",
              "  <div id=\"df-ebd65808-54ff-48f7-b420-bd1641ec18d3\">\n",
              "    <div class=\"colab-df-container\">\n",
              "      <div>\n",
              "<style scoped>\n",
              "    .dataframe tbody tr th:only-of-type {\n",
              "        vertical-align: middle;\n",
              "    }\n",
              "\n",
              "    .dataframe tbody tr th {\n",
              "        vertical-align: top;\n",
              "    }\n",
              "\n",
              "    .dataframe thead th {\n",
              "        text-align: right;\n",
              "    }\n",
              "</style>\n",
              "<table border=\"1\" class=\"dataframe\">\n",
              "  <thead>\n",
              "    <tr style=\"text-align: right;\">\n",
              "      <th></th>\n",
              "      <th>Unnamed: 0</th>\n",
              "      <th>order_id</th>\n",
              "      <th>quantity</th>\n",
              "      <th>item_name</th>\n",
              "      <th>choice_description</th>\n",
              "      <th>item_price</th>\n",
              "    </tr>\n",
              "  </thead>\n",
              "  <tbody>\n",
              "    <tr>\n",
              "      <th>0</th>\n",
              "      <td>0</td>\n",
              "      <td>1</td>\n",
              "      <td>1</td>\n",
              "      <td>Chips and Fresh Tomato Salsa</td>\n",
              "      <td>NaN</td>\n",
              "      <td>$2.39</td>\n",
              "    </tr>\n",
              "    <tr>\n",
              "      <th>1</th>\n",
              "      <td>1</td>\n",
              "      <td>1</td>\n",
              "      <td>1</td>\n",
              "      <td>Izze</td>\n",
              "      <td>[Clementine]</td>\n",
              "      <td>$3.39</td>\n",
              "    </tr>\n",
              "    <tr>\n",
              "      <th>2</th>\n",
              "      <td>2</td>\n",
              "      <td>1</td>\n",
              "      <td>1</td>\n",
              "      <td>Nantucket Nectar</td>\n",
              "      <td>[Apple]</td>\n",
              "      <td>$3.39</td>\n",
              "    </tr>\n",
              "    <tr>\n",
              "      <th>3</th>\n",
              "      <td>3</td>\n",
              "      <td>1</td>\n",
              "      <td>1</td>\n",
              "      <td>Chips and Tomatillo-Green Chili Salsa</td>\n",
              "      <td>NaN</td>\n",
              "      <td>$2.39</td>\n",
              "    </tr>\n",
              "    <tr>\n",
              "      <th>4</th>\n",
              "      <td>4</td>\n",
              "      <td>2</td>\n",
              "      <td>2</td>\n",
              "      <td>Chicken Bowl</td>\n",
              "      <td>[Tomatillo-Red Chili Salsa (Hot), [Black Beans...</td>\n",
              "      <td>$16.98</td>\n",
              "    </tr>\n",
              "    <tr>\n",
              "      <th>...</th>\n",
              "      <td>...</td>\n",
              "      <td>...</td>\n",
              "      <td>...</td>\n",
              "      <td>...</td>\n",
              "      <td>...</td>\n",
              "      <td>...</td>\n",
              "    </tr>\n",
              "    <tr>\n",
              "      <th>4617</th>\n",
              "      <td>4617</td>\n",
              "      <td>1833</td>\n",
              "      <td>1</td>\n",
              "      <td>Steak Burrito</td>\n",
              "      <td>[Fresh Tomato Salsa, [Rice, Black Beans, Sour ...</td>\n",
              "      <td>$11.75</td>\n",
              "    </tr>\n",
              "    <tr>\n",
              "      <th>4618</th>\n",
              "      <td>4618</td>\n",
              "      <td>1833</td>\n",
              "      <td>1</td>\n",
              "      <td>Steak Burrito</td>\n",
              "      <td>[Fresh Tomato Salsa, [Rice, Sour Cream, Cheese...</td>\n",
              "      <td>$11.75</td>\n",
              "    </tr>\n",
              "    <tr>\n",
              "      <th>4619</th>\n",
              "      <td>4619</td>\n",
              "      <td>1834</td>\n",
              "      <td>1</td>\n",
              "      <td>Chicken Salad Bowl</td>\n",
              "      <td>[Fresh Tomato Salsa, [Fajita Vegetables, Pinto...</td>\n",
              "      <td>$11.25</td>\n",
              "    </tr>\n",
              "    <tr>\n",
              "      <th>4620</th>\n",
              "      <td>4620</td>\n",
              "      <td>1834</td>\n",
              "      <td>1</td>\n",
              "      <td>Chicken Salad Bowl</td>\n",
              "      <td>[Fresh Tomato Salsa, [Fajita Vegetables, Lettu...</td>\n",
              "      <td>$8.75</td>\n",
              "    </tr>\n",
              "    <tr>\n",
              "      <th>4621</th>\n",
              "      <td>4621</td>\n",
              "      <td>1834</td>\n",
              "      <td>1</td>\n",
              "      <td>Chicken Salad Bowl</td>\n",
              "      <td>[Fresh Tomato Salsa, [Fajita Vegetables, Pinto...</td>\n",
              "      <td>$8.75</td>\n",
              "    </tr>\n",
              "  </tbody>\n",
              "</table>\n",
              "<p>4622 rows × 6 columns</p>\n",
              "</div>\n",
              "      <button class=\"colab-df-convert\" onclick=\"convertToInteractive('df-ebd65808-54ff-48f7-b420-bd1641ec18d3')\"\n",
              "              title=\"Convert this dataframe to an interactive table.\"\n",
              "              style=\"display:none;\">\n",
              "        \n",
              "  <svg xmlns=\"http://www.w3.org/2000/svg\" height=\"24px\"viewBox=\"0 0 24 24\"\n",
              "       width=\"24px\">\n",
              "    <path d=\"M0 0h24v24H0V0z\" fill=\"none\"/>\n",
              "    <path d=\"M18.56 5.44l.94 2.06.94-2.06 2.06-.94-2.06-.94-.94-2.06-.94 2.06-2.06.94zm-11 1L8.5 8.5l.94-2.06 2.06-.94-2.06-.94L8.5 2.5l-.94 2.06-2.06.94zm10 10l.94 2.06.94-2.06 2.06-.94-2.06-.94-.94-2.06-.94 2.06-2.06.94z\"/><path d=\"M17.41 7.96l-1.37-1.37c-.4-.4-.92-.59-1.43-.59-.52 0-1.04.2-1.43.59L10.3 9.45l-7.72 7.72c-.78.78-.78 2.05 0 2.83L4 21.41c.39.39.9.59 1.41.59.51 0 1.02-.2 1.41-.59l7.78-7.78 2.81-2.81c.8-.78.8-2.07 0-2.86zM5.41 20L4 18.59l7.72-7.72 1.47 1.35L5.41 20z\"/>\n",
              "  </svg>\n",
              "      </button>\n",
              "      \n",
              "  <style>\n",
              "    .colab-df-container {\n",
              "      display:flex;\n",
              "      flex-wrap:wrap;\n",
              "      gap: 12px;\n",
              "    }\n",
              "\n",
              "    .colab-df-convert {\n",
              "      background-color: #E8F0FE;\n",
              "      border: none;\n",
              "      border-radius: 50%;\n",
              "      cursor: pointer;\n",
              "      display: none;\n",
              "      fill: #1967D2;\n",
              "      height: 32px;\n",
              "      padding: 0 0 0 0;\n",
              "      width: 32px;\n",
              "    }\n",
              "\n",
              "    .colab-df-convert:hover {\n",
              "      background-color: #E2EBFA;\n",
              "      box-shadow: 0px 1px 2px rgba(60, 64, 67, 0.3), 0px 1px 3px 1px rgba(60, 64, 67, 0.15);\n",
              "      fill: #174EA6;\n",
              "    }\n",
              "\n",
              "    [theme=dark] .colab-df-convert {\n",
              "      background-color: #3B4455;\n",
              "      fill: #D2E3FC;\n",
              "    }\n",
              "\n",
              "    [theme=dark] .colab-df-convert:hover {\n",
              "      background-color: #434B5C;\n",
              "      box-shadow: 0px 1px 3px 1px rgba(0, 0, 0, 0.15);\n",
              "      filter: drop-shadow(0px 1px 2px rgba(0, 0, 0, 0.3));\n",
              "      fill: #FFFFFF;\n",
              "    }\n",
              "  </style>\n",
              "\n",
              "      <script>\n",
              "        const buttonEl =\n",
              "          document.querySelector('#df-ebd65808-54ff-48f7-b420-bd1641ec18d3 button.colab-df-convert');\n",
              "        buttonEl.style.display =\n",
              "          google.colab.kernel.accessAllowed ? 'block' : 'none';\n",
              "\n",
              "        async function convertToInteractive(key) {\n",
              "          const element = document.querySelector('#df-ebd65808-54ff-48f7-b420-bd1641ec18d3');\n",
              "          const dataTable =\n",
              "            await google.colab.kernel.invokeFunction('convertToInteractive',\n",
              "                                                     [key], {});\n",
              "          if (!dataTable) return;\n",
              "\n",
              "          const docLinkHtml = 'Like what you see? Visit the ' +\n",
              "            '<a target=\"_blank\" href=https://colab.research.google.com/notebooks/data_table.ipynb>data table notebook</a>'\n",
              "            + ' to learn more about interactive tables.';\n",
              "          element.innerHTML = '';\n",
              "          dataTable['output_type'] = 'display_data';\n",
              "          await google.colab.output.renderOutput(dataTable, element);\n",
              "          const docLink = document.createElement('div');\n",
              "          docLink.innerHTML = docLinkHtml;\n",
              "          element.appendChild(docLink);\n",
              "        }\n",
              "      </script>\n",
              "    </div>\n",
              "  </div>\n",
              "  "
            ]
          },
          "metadata": {},
          "execution_count": 10
        }
      ]
    },
    {
      "cell_type": "markdown",
      "source": [
        "4.파일 복사하기\n"
      ],
      "metadata": {
        "id": "mLazRFVxTz7h"
      }
    },
    {
      "cell_type": "code",
      "source": [
        "!cp /content/chipo.csv ./          # 이미 test 안에 있으므로 ./ 만 해줘도 test에 복사됨됨"
      ],
      "metadata": {
        "id": "_zJf8oNOT2JT"
      },
      "execution_count": 11,
      "outputs": []
    },
    {
      "cell_type": "code",
      "source": [
        "4-1 폴더 이동하기"
      ],
      "metadata": {
        "id": "LEMDR0eaUk03"
      },
      "execution_count": null,
      "outputs": []
    },
    {
      "cell_type": "code",
      "source": [
        "!cp -r /content/test2 ./"
      ],
      "metadata": {
        "colab": {
          "base_uri": "https://localhost:8080/"
        },
        "id": "bcc2fL7aUofg",
        "outputId": "1aa12e76-20ab-467a-9fea-86fa129cf65f"
      },
      "execution_count": 21,
      "outputs": [
        {
          "output_type": "stream",
          "name": "stdout",
          "text": [
            "cp: cannot stat '/content/test2': No such file or directory\n"
          ]
        }
      ]
    },
    {
      "cell_type": "code",
      "source": [
        "!cp --help"
      ],
      "metadata": {
        "id": "hzI5E-QSU-TU"
      },
      "execution_count": null,
      "outputs": []
    },
    {
      "cell_type": "code",
      "source": [
        "!cp ./*.csv ./sample_data  #현재 디렉토리에 모든 csv 파일을 smaple디렉토리에 카피 시킴킴"
      ],
      "metadata": {
        "id": "ZYtmuNJKb8-6"
      },
      "execution_count": 9,
      "outputs": []
    },
    {
      "cell_type": "markdown",
      "source": [
        "5.파일 이동하기"
      ],
      "metadata": {
        "id": "eAWbus--UL-e"
      }
    },
    {
      "cell_type": "code",
      "source": [
        "!mv /content/chipo.csv ./"
      ],
      "metadata": {
        "id": "aQ8GnB31UNi6"
      },
      "execution_count": 12,
      "outputs": []
    },
    {
      "cell_type": "code",
      "source": [
        "6.이름 바꾸기"
      ],
      "metadata": {
        "id": "A0VbOmSgVGpw"
      },
      "execution_count": null,
      "outputs": []
    },
    {
      "cell_type": "code",
      "source": [
        "!mv ./chipp2.csv ./chipo2.csv"
      ],
      "metadata": {
        "id": "BADD_sUJVH-7"
      },
      "execution_count": 25,
      "outputs": []
    },
    {
      "cell_type": "code",
      "source": [
        "7.cpu,램,사용중인 프로세스 보기"
      ],
      "metadata": {
        "id": "rSgkVWy2VVsr"
      },
      "execution_count": null,
      "outputs": []
    },
    {
      "cell_type": "code",
      "source": [
        "!top"
      ],
      "metadata": {
        "colab": {
          "base_uri": "https://localhost:8080/"
        },
        "id": "IpPXg03qVZKj",
        "outputId": "7b5b267d-8336-43e1-e4c9-0e6e3e91d436"
      },
      "execution_count": 24,
      "outputs": [
        {
          "output_type": "stream",
          "name": "stdout",
          "text": [
            "\u001b[?1h\u001b=\u001b[H\u001b[2J\u001b[mtop - 01:58:46 up 17 min,  0 users,  load average: 0.33, 0.35, 0.28\u001b[m\u001b[m\u001b[m\u001b[m\u001b[K\n",
            "Tasks:\u001b[m\u001b[m\u001b[1m  15 \u001b[m\u001b[mtotal,\u001b[m\u001b[m\u001b[1m   1 \u001b[m\u001b[mrunning,\u001b[m\u001b[m\u001b[1m  13 \u001b[m\u001b[msleeping,\u001b[m\u001b[m\u001b[1m   0 \u001b[m\u001b[mstopped,\u001b[m\u001b[m\u001b[1m   1 \u001b[m\u001b[mzombie\u001b[m\u001b[m\u001b[m\u001b[m\u001b[K\n",
            "%Cpu(s):\u001b[m\u001b[m\u001b[1m 12.9 \u001b[m\u001b[mus,\u001b[m\u001b[m\u001b[1m  3.2 \u001b[m\u001b[msy,\u001b[m\u001b[m\u001b[1m  0.0 \u001b[m\u001b[mni,\u001b[m\u001b[m\u001b[1m 83.9 \u001b[m\u001b[mid,\u001b[m\u001b[m\u001b[1m  0.0 \u001b[m\u001b[mwa,\u001b[m\u001b[m\u001b[1m  0.0 \u001b[m\u001b[mhi,\u001b[m\u001b[m\u001b[1m  0.0 \u001b[m\u001b[msi,\u001b[m\u001b[m\u001b[1m  0.0 \u001b[m\u001b[mst\u001b[m\u001b[m\u001b[m\u001b[m\u001b[K\n",
            "MiB Mem :\u001b[m\u001b[m\u001b[1m  12985.5 \u001b[m\u001b[mtotal,\u001b[m\u001b[m\u001b[1m   7927.6 \u001b[m\u001b[mfree,\u001b[m\u001b[m\u001b[1m    754.3 \u001b[m\u001b[mused,\u001b[m\u001b[m\u001b[1m   4303.6 \u001b[m\u001b[mbuff/cache\u001b[m\u001b[m\u001b[m\u001b[m\u001b[K\n",
            "MiB Swap:\u001b[m\u001b[m\u001b[1m      0.0 \u001b[m\u001b[mtotal,\u001b[m\u001b[m\u001b[1m      0.0 \u001b[m\u001b[mfree,\u001b[m\u001b[m\u001b[1m      0.0 \u001b[m\u001b[mused.\u001b[m\u001b[m\u001b[1m  11946.0 \u001b[m\u001b[mavail Mem \u001b[m\u001b[m\u001b[m\u001b[m\u001b[K\n",
            "\u001b[K\n",
            "\u001b[7m    PID USER      PR  NI    VIRT    RES    SHR S  %CPU  %MEM     TIME+ COMMAND  \u001b[m\u001b[m\u001b[K\n",
            "\u001b[m      1 root      20   0    1012      8      0 S   0.0   0.0   0:00.58 docker-+ \u001b[m\u001b[m\u001b[K\n",
            "\u001b[m      7 root      20   0  898112  51592  30704 S   0.0   0.4   0:05.10 node     \u001b[m\u001b[m\u001b[K\n",
            "\u001b[m     18 root      20   0    5524    580    508 S   0.0   0.0   0:00.61 tail     \u001b[m\u001b[m\u001b[K\n",
            "\u001b[m     29 root      20   0    6904   3456   3160 S   0.0   0.0   0:00.51 oom_mon+ \u001b[m\u001b[m\u001b[K\n",
            "\u001b[m     31 root      20   0    6904   1608   1332 S   0.0   0.0   0:00.00 run.sh   \u001b[m\u001b[m\u001b[K\n",
            "\u001b[m     32 root      20   0  722040  14420   8112 S   0.0   0.1   0:00.50 kernel_+ \u001b[m\u001b[m\u001b[K\n",
            "\u001b[m     59 root      20   0       0      0      0 Z   0.0   0.0   0:06.12 python3  \u001b[m\u001b[m\u001b[K\n",
            "\u001b[m     60 root      20   0   77200  44004  12936 S   0.0   0.3   0:00.69 colab-f+ \u001b[m\u001b[m\u001b[K\n",
            "\u001b[m     77 root      20   0  556812 152764  48344 S   0.0   1.1   0:05.60 jupyter+ \u001b[m\u001b[m\u001b[K\n",
            "\u001b[m     78 root      20   0  712572   7164   2864 S   0.0   0.1   0:00.21 dap_mul+ \u001b[m\u001b[m\u001b[K\n",
            "\u001b[m    134 root      20   0 1282340 187208  61212 S   0.0   1.4   0:07.91 python3  \u001b[m\u001b[m\u001b[K\n",
            "\u001b[m    172 root      20   0  537604  14132   5664 S   0.0   0.1   0:00.15 python3  \u001b[m\u001b[m\u001b[K\n",
            "\u001b[m   3516 root      20   0  949264 182320  30308 S   0.0   1.4   0:21.58 node     \u001b[m\u001b[m\u001b[K\n",
            "\u001b[m\u001b[1m   4537 root      20   0    9128   3636   3136 R   0.0   0.0   0:00.00 top      \u001b[m\u001b[m\u001b[K\n",
            "\u001b[m   4541 root      20   0    5488    584    516 S   0.0   0.0   0:00.00 sleep    \u001b[m\u001b[m\u001b[K\n",
            "\u001b[J\u001b[?1l\u001b>\u001b[25;1H\n",
            "\u001b[K"
          ]
        }
      ]
    },
    {
      "cell_type": "code",
      "source": [
        "8. GPU 종류와  VRAM 용량 확인 ★★★★★★★★★★"
      ],
      "metadata": {
        "id": "eRt6vUPCWAWs"
      },
      "execution_count": null,
      "outputs": []
    },
    {
      "cell_type": "code",
      "source": [
        "!nvidia-smi"
      ],
      "metadata": {
        "colab": {
          "base_uri": "https://localhost:8080/"
        },
        "id": "3l1_axfpWHEB",
        "outputId": "afeef6c6-eeca-4e4d-b7a4-df81ce24b567"
      },
      "execution_count": 2,
      "outputs": [
        {
          "output_type": "stream",
          "name": "stdout",
          "text": [
            "Thu Apr 13 02:01:57 2023       \n",
            "+-----------------------------------------------------------------------------+\n",
            "| NVIDIA-SMI 525.85.12    Driver Version: 525.85.12    CUDA Version: 12.0     |\n",
            "|-------------------------------+----------------------+----------------------+\n",
            "| GPU  Name        Persistence-M| Bus-Id        Disp.A | Volatile Uncorr. ECC |\n",
            "| Fan  Temp  Perf  Pwr:Usage/Cap|         Memory-Usage | GPU-Util  Compute M. |\n",
            "|                               |                      |               MIG M. |\n",
            "|===============================+======================+======================|\n",
            "|   0  Tesla T4            Off  | 00000000:00:04.0 Off |                    0 |\n",
            "| N/A   61C    P8    10W /  70W |      0MiB / 15360MiB |      0%      Default |\n",
            "|                               |                      |                  N/A |\n",
            "+-------------------------------+----------------------+----------------------+\n",
            "                                                                               \n",
            "+-----------------------------------------------------------------------------+\n",
            "| Processes:                                                                  |\n",
            "|  GPU   GI   CI        PID   Type   Process name                  GPU Memory |\n",
            "|        ID   ID                                                   Usage      |\n",
            "|=============================================================================|\n",
            "|  No running processes found                                                 |\n",
            "+-----------------------------------------------------------------------------+\n"
          ]
        }
      ]
    },
    {
      "cell_type": "code",
      "source": [
        "9.프로세스 끄기"
      ],
      "metadata": {
        "id": "1eKJmFaxW2k7"
      },
      "execution_count": null,
      "outputs": []
    },
    {
      "cell_type": "code",
      "source": [
        "!kill -9 프로세스아이디"
      ],
      "metadata": {
        "colab": {
          "base_uri": "https://localhost:8080/"
        },
        "id": "huWv4jWAW3xT",
        "outputId": "711db7b7-e366-4af3-d60d-db6ad8266f65"
      },
      "execution_count": 5,
      "outputs": [
        {
          "output_type": "stream",
          "name": "stdout",
          "text": [
            "/bin/bash: line 0: kill: 프로세스아이디: arguments must be process or job IDs\n"
          ]
        }
      ]
    },
    {
      "cell_type": "code",
      "source": [
        "10.파일들의 권한 및 모든정보 확인하기"
      ],
      "metadata": {
        "id": "TcirgnBFadgA"
      },
      "execution_count": null,
      "outputs": []
    },
    {
      "cell_type": "code",
      "source": [
        "!ls -al"
      ],
      "metadata": {
        "colab": {
          "base_uri": "https://localhost:8080/"
        },
        "id": "WtLV01a9aijy",
        "outputId": "c48555c1-ba7e-49d1-d8ec-42fda2c1b299"
      },
      "execution_count": 6,
      "outputs": [
        {
          "output_type": "stream",
          "name": "stdout",
          "text": [
            "total 16\n",
            "drwxr-xr-x 1 root root 4096 Apr 11 13:33 .\n",
            "drwxr-xr-x 1 root root 4096 Apr 13 02:00 ..\n",
            "drwxr-xr-x 4 root root 4096 Apr 11 13:32 .config\n",
            "drwxr-xr-x 1 root root 4096 Apr 11 13:33 sample_data\n"
          ]
        }
      ]
    },
    {
      "cell_type": "code",
      "source": [
        "11.특정 정보만 조회하기"
      ],
      "metadata": {
        "id": "CaMpTEqqbdbh"
      },
      "execution_count": null,
      "outputs": []
    },
    {
      "cell_type": "code",
      "source": [
        "!ls -al *.csv"
      ],
      "metadata": {
        "colab": {
          "base_uri": "https://localhost:8080/"
        },
        "id": "xSuImDm5bfgk",
        "outputId": "383a1624-2c1d-4267-ef4b-089f3ae76334"
      },
      "execution_count": 8,
      "outputs": [
        {
          "output_type": "stream",
          "name": "stdout",
          "text": [
            "-rw-r--r-- 1 root root 1125558 Apr 13 02:24 Jeju.csv\n",
            "-rw-r--r-- 1 root root   60302 Apr 13 02:24 titanic.csv\n"
          ]
        }
      ]
    },
    {
      "cell_type": "code",
      "source": [
        "12. 권한 바꾸기"
      ],
      "metadata": {
        "id": "Gp_EO01ccMDL"
      },
      "execution_count": null,
      "outputs": []
    },
    {
      "cell_type": "code",
      "source": [
        "!ls -al"
      ],
      "metadata": {
        "colab": {
          "base_uri": "https://localhost:8080/"
        },
        "id": "YUBxRSj7cNZg",
        "outputId": "d4a033db-5cef-4c49-9c3f-722061f50313"
      },
      "execution_count": 10,
      "outputs": [
        {
          "output_type": "stream",
          "name": "stdout",
          "text": [
            "total 1208\n",
            "drwxr-xr-x 1 root root    4096 Apr 13 02:24 .\n",
            "drwxr-xr-x 1 root root    4096 Apr 13 02:00 ..\n",
            "drwxr-xr-x 4 root root    4096 Apr 11 13:32 .config\n",
            "-rw-r--r-- 1 root root   28330 Apr 13 02:23 판다스문제.ipynb\n",
            "-rw-r--r-- 1 root root 1125558 Apr 13 02:24 Jeju.csv\n",
            "drwxr-xr-x 1 root root    4096 Apr 13 02:27 sample_data\n",
            "-rw-r--r-- 1 root root   60302 Apr 13 02:24 titanic.csv\n"
          ]
        }
      ]
    },
    {
      "cell_type": "code",
      "source": [
        "!chmod 777 ./Jeju.csv"
      ],
      "metadata": {
        "id": "zK-gcQWEcmxv"
      },
      "execution_count": 11,
      "outputs": []
    },
    {
      "cell_type": "code",
      "source": [
        "!ls -al"
      ],
      "metadata": {
        "colab": {
          "base_uri": "https://localhost:8080/"
        },
        "id": "DM7SWdR4ctRW",
        "outputId": "3e9caf90-c293-4be7-f925-dec411f9b242"
      },
      "execution_count": 12,
      "outputs": [
        {
          "output_type": "stream",
          "name": "stdout",
          "text": [
            "total 1208\n",
            "drwxr-xr-x 1 root root    4096 Apr 13 02:24 .\n",
            "drwxr-xr-x 1 root root    4096 Apr 13 02:00 ..\n",
            "drwxr-xr-x 4 root root    4096 Apr 11 13:32 .config\n",
            "-rw-r--r-- 1 root root   28330 Apr 13 02:23 판다스문제.ipynb\n",
            "-rwxrwxrwx 1 root root 1125558 Apr 13 02:24 Jeju.csv\n",
            "drwxr-xr-x 1 root root    4096 Apr 13 02:27 sample_data\n",
            "-rw-r--r-- 1 root root   60302 Apr 13 02:24 titanic.csv\n"
          ]
        }
      ]
    },
    {
      "cell_type": "code",
      "source": [
        "!chmod 555 ./Jeju.csv"
      ],
      "metadata": {
        "id": "_qaw0ieYc_oi"
      },
      "execution_count": 13,
      "outputs": []
    },
    {
      "cell_type": "code",
      "source": [
        "!ls -al"
      ],
      "metadata": {
        "colab": {
          "base_uri": "https://localhost:8080/"
        },
        "id": "_4jMwDyTdDIP",
        "outputId": "2e7c85a5-b539-4f50-c9ca-d09e0505e897"
      },
      "execution_count": 14,
      "outputs": [
        {
          "output_type": "stream",
          "name": "stdout",
          "text": [
            "total 1208\n",
            "drwxr-xr-x 1 root root    4096 Apr 13 02:24 .\n",
            "drwxr-xr-x 1 root root    4096 Apr 13 02:00 ..\n",
            "drwxr-xr-x 4 root root    4096 Apr 11 13:32 .config\n",
            "-rw-r--r-- 1 root root   28330 Apr 13 02:23 판다스문제.ipynb\n",
            "-r-xr-xr-x 1 root root 1125558 Apr 13 02:24 Jeju.csv\n",
            "drwxr-xr-x 1 root root    4096 Apr 13 02:27 sample_data\n",
            "-rw-r--r-- 1 root root   60302 Apr 13 02:24 titanic.csv\n"
          ]
        }
      ]
    },
    {
      "cell_type": "code",
      "source": [
        "13. 폴더 및 그 안에 있는 폴더도 싹 다 권한 바꾸기"
      ],
      "metadata": {
        "id": "We3cKwGjdY4x"
      },
      "execution_count": null,
      "outputs": []
    },
    {
      "cell_type": "code",
      "source": [
        "!ls -al ./test/"
      ],
      "metadata": {
        "colab": {
          "base_uri": "https://localhost:8080/"
        },
        "id": "11zBMJ51dfL1",
        "outputId": "4432204e-7bb9-4dab-c1a8-8521af44c8dd"
      },
      "execution_count": 15,
      "outputs": [
        {
          "output_type": "stream",
          "name": "stdout",
          "text": [
            "total 1172\n",
            "drwxr-xr-x 2 root root    4096 Apr 13 02:33 .\n",
            "drwxr-xr-x 1 root root    4096 Apr 13 02:33 ..\n",
            "-r-xr-xr-x 1 root root 1125558 Apr 13 02:24 Jeju.csv\n",
            "-rw-r--r-- 1 root root   60302 Apr 13 02:24 titanic.csv\n"
          ]
        }
      ]
    },
    {
      "cell_type": "code",
      "source": [
        "!chmod 777 -R ./test"
      ],
      "metadata": {
        "id": "Pzx1wVfodrm1"
      },
      "execution_count": null,
      "outputs": []
    },
    {
      "cell_type": "code",
      "source": [
        "!ls -al ./test/"
      ],
      "metadata": {
        "id": "G7ncjyc_duj2"
      },
      "execution_count": null,
      "outputs": []
    },
    {
      "cell_type": "code",
      "source": [
        "!chmod 777 ./test/Jeju.csv"
      ],
      "metadata": {
        "id": "YcKLXymqeJ53"
      },
      "execution_count": 16,
      "outputs": []
    },
    {
      "cell_type": "code",
      "source": [
        "14. 파일 삭제하기"
      ],
      "metadata": {
        "id": "e7VzCIA4eTO3"
      },
      "execution_count": null,
      "outputs": []
    },
    {
      "cell_type": "code",
      "source": [
        "!rm 판다스문제.ipynb"
      ],
      "metadata": {
        "id": "DPAOa7s0eY1N"
      },
      "execution_count": 17,
      "outputs": []
    },
    {
      "cell_type": "code",
      "source": [
        "!rm -r test"
      ],
      "metadata": {
        "colab": {
          "base_uri": "https://localhost:8080/"
        },
        "id": "KFiksgNueedh",
        "outputId": "cb35819e-d1ba-4644-8bf0-4d7decf8176f"
      },
      "execution_count": 18,
      "outputs": [
        {
          "output_type": "stream",
          "name": "stdout",
          "text": [
            "rm: cannot remove 'test': Is a directory\n"
          ]
        }
      ]
    },
    {
      "cell_type": "code",
      "source": [
        "!rm --help"
      ],
      "metadata": {
        "colab": {
          "base_uri": "https://localhost:8080/"
        },
        "id": "3N4r6vUVetnk",
        "outputId": "510a7f22-b1f5-4668-a769-81999863bada"
      },
      "execution_count": 19,
      "outputs": [
        {
          "output_type": "stream",
          "name": "stdout",
          "text": [
            "Usage: rm [OPTION]... [FILE]...\n",
            "Remove (unlink) the FILE(s).\n",
            "\n",
            "  -f, --force           ignore nonexistent files and arguments, never prompt\n",
            "  -i                    prompt before every removal\n",
            "  -I                    prompt once before removing more than three files, or\n",
            "                          when removing recursively; less intrusive than -i,\n",
            "                          while still giving protection against most mistakes\n",
            "      --interactive[=WHEN]  prompt according to WHEN: never, once (-I), or\n",
            "                          always (-i); without WHEN, prompt always\n",
            "      --one-file-system  when removing a hierarchy recursively, skip any\n",
            "                          directory that is on a file system different from\n",
            "                          that of the corresponding command line argument\n",
            "      --no-preserve-root  do not treat '/' specially\n",
            "      --preserve-root[=all]  do not remove '/' (default);\n",
            "                              with 'all', reject any command line argument\n",
            "                              on a separate device from its parent\n",
            "  -r, -R, --recursive   remove directories and their contents recursively\n",
            "  -d, --dir             remove empty directories\n",
            "  -v, --verbose         explain what is being done\n",
            "      --help     display this help and exit\n",
            "      --version  output version information and exit\n",
            "\n",
            "By default, rm does not remove directories.  Use the --recursive (-r or -R)\n",
            "option to remove each listed directory, too, along with all of its contents.\n",
            "\n",
            "To remove a file whose name starts with a '-', for example '-foo',\n",
            "use one of these commands:\n",
            "  rm -- -foo\n",
            "\n",
            "  rm ./-foo\n",
            "\n",
            "Note that if you use rm to remove a file, it might be possible to recover\n",
            "some of its contents, given sufficient expertise and/or time.  For greater\n",
            "assurance that the contents are truly unrecoverable, consider using shred.\n",
            "\n",
            "GNU coreutils online help: <https://www.gnu.org/software/coreutils/>\n",
            "Full documentation at: <https://www.gnu.org/software/coreutils/rm>\n",
            "or available locally via: info '(coreutils) rm invocation'\n"
          ]
        }
      ]
    },
    {
      "cell_type": "markdown",
      "source": [
        "15.컴퓨터 용량 확인하기"
      ],
      "metadata": {
        "id": "XwLqKH8revbQ"
      }
    },
    {
      "cell_type": "code",
      "source": [
        "!df -h"
      ],
      "metadata": {
        "colab": {
          "base_uri": "https://localhost:8080/"
        },
        "id": "M-59wviseyAZ",
        "outputId": "143ed355-c0f3-4546-db2a-fa840a58bc92"
      },
      "execution_count": 20,
      "outputs": [
        {
          "output_type": "stream",
          "name": "stdout",
          "text": [
            "Filesystem      Size  Used Avail Use% Mounted on\n",
            "overlay          79G   24G   56G  30% /\n",
            "tmpfs            64M     0   64M   0% /dev\n",
            "shm             5.7G     0  5.7G   0% /dev/shm\n",
            "/dev/root       2.0G  1.1G  841M  58% /usr/sbin/docker-init\n",
            "tmpfs           6.4G   11M  6.4G   1% /var/colab\n",
            "/dev/sda1        77G   44G   34G  57% /opt/bin/.nvidia\n",
            "tmpfs           6.4G     0  6.4G   0% /proc/acpi\n",
            "tmpfs           6.4G     0  6.4G   0% /proc/scsi\n",
            "tmpfs           6.4G     0  6.4G   0% /sys/firmware\n"
          ]
        }
      ]
    },
    {
      "cell_type": "code",
      "source": [
        "16.파일 찾기"
      ],
      "metadata": {
        "id": "EzqJJdipe1bH"
      },
      "execution_count": null,
      "outputs": []
    },
    {
      "cell_type": "code",
      "source": [
        "!find "
      ],
      "metadata": {
        "colab": {
          "base_uri": "https://localhost:8080/"
        },
        "id": "3E-Fala6e2gg",
        "outputId": "f6b4a692-0944-4782-d0b9-bb818b4990b7"
      },
      "execution_count": 21,
      "outputs": [
        {
          "output_type": "stream",
          "name": "stdout",
          "text": [
            "find: ‘Jeju.csv’: No such file or directory\n"
          ]
        }
      ]
    }
  ]
}
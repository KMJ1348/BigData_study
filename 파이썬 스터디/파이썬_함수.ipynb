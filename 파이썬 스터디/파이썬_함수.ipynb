{
  "nbformat": 4,
  "nbformat_minor": 0,
  "metadata": {
    "colab": {
      "provenance": []
    },
    "kernelspec": {
      "name": "python3",
      "display_name": "Python 3"
    },
    "language_info": {
      "name": "python"
    }
  },
  "cells": [
    {
      "cell_type": "markdown",
      "source": [
        "01 \n",
        "\n",
        "\"뉴딜\" 문자열을 화면에 출력하는 print_new() 함수를 정의하라."
      ],
      "metadata": {
        "id": "bZKGkTFENJX2"
      }
    },
    {
      "cell_type": "code",
      "execution_count": 13,
      "metadata": {
        "id": "AEBlty-UNImm"
      },
      "outputs": [],
      "source": [
        "def print_new():\n",
        "  print(\"뉴딜\")"
      ]
    },
    {
      "cell_type": "markdown",
      "source": [
        "02\n",
        "\n",
        "01번에서 정의한 함수를 호출하라."
      ],
      "metadata": {
        "id": "9Fno-FRnNQcX"
      }
    },
    {
      "cell_type": "code",
      "source": [
        "def print_new():\n",
        "  print(\"뉴딜\")\n",
        "\n",
        "print_new()"
      ],
      "metadata": {
        "id": "ho11AW3cNTrD",
        "colab": {
          "base_uri": "https://localhost:8080/"
        },
        "outputId": "8ce0d0bc-6a58-4945-8405-775ce4ec1fa8"
      },
      "execution_count": 26,
      "outputs": [
        {
          "output_type": "stream",
          "name": "stdout",
          "text": [
            "뉴딜\n"
          ]
        }
      ]
    },
    {
      "cell_type": "markdown",
      "source": [
        "03\n",
        "\n",
        "01번에서 정의한 print_new 함수를 100번호출하라."
      ],
      "metadata": {
        "id": "DmXnZifVNUdH"
      }
    },
    {
      "cell_type": "code",
      "source": [
        "for i in range(100):\n",
        "  print_new()"
      ],
      "metadata": {
        "id": "pFTuFNWYNdxZ"
      },
      "execution_count": null,
      "outputs": []
    },
    {
      "cell_type": "markdown",
      "source": [
        "04\n",
        "\n",
        "\"뉴딜\" 문자열을 100번 화면에 출력하는 new_prints() 함수를 정의하라."
      ],
      "metadata": {
        "id": "pZ9O4RqqNd_h"
      }
    },
    {
      "cell_type": "code",
      "source": [
        "def new_prints():\n",
        "  for i in range(100):\n",
        "    print(\"뉴딜\")\n",
        "\n",
        "new_prints()"
      ],
      "metadata": {
        "id": "gsMsYYzGPBNG"
      },
      "execution_count": null,
      "outputs": []
    },
    {
      "cell_type": "markdown",
      "source": [
        "05\n",
        "\n",
        "아래의 에러가 발생하는 이유에 대해 설명하라.\n",
        "\n",
        "```\n",
        "hello()\n",
        "def hello():\n",
        "    print(\"Hi\")\n",
        "```\n",
        "\n",
        "실행 예\n",
        "```\n",
        "NameError: name 'hello' is not defined\n",
        "```\n"
      ],
      "metadata": {
        "id": "Rihgf7vdPOP9"
      }
    },
    {
      "cell_type": "code",
      "source": [
        "hello() 함수를 호출하기 전에 hello() 함수를 정의하려고 시도 했기 때문."
      ],
      "metadata": {
        "id": "BCF_iIVwPWfp"
      },
      "execution_count": null,
      "outputs": []
    },
    {
      "cell_type": "markdown",
      "source": [
        "06\n",
        "\n",
        "아래 코드의 실행 결과를 예측하라.\n",
        "\n",
        "```\n",
        "def message() :\n",
        "    print(\"A\")\n",
        "    print(\"B\")\n",
        "\n",
        "message()\n",
        "print(\"C\")\n",
        "message()\n",
        "```"
      ],
      "metadata": {
        "id": "GuAAXOCAParp"
      }
    },
    {
      "cell_type": "code",
      "source": [
        "A\n",
        "B\n",
        "C\n",
        "A\n",
        "B"
      ],
      "metadata": {
        "id": "FLsz-2t4PenB",
        "colab": {
          "base_uri": "https://localhost:8080/",
          "height": 174
        },
        "outputId": "30100c17-d3fb-4030-a646-e1f95c0bde60"
      },
      "execution_count": 23,
      "outputs": [
        {
          "output_type": "error",
          "ename": "NameError",
          "evalue": "ignored",
          "traceback": [
            "\u001b[0;31m---------------------------------------------------------------------------\u001b[0m",
            "\u001b[0;31mNameError\u001b[0m                                 Traceback (most recent call last)",
            "\u001b[0;32m<ipython-input-23-7d157d7c000a>\u001b[0m in \u001b[0;36m<cell line: 1>\u001b[0;34m()\u001b[0m\n\u001b[0;32m----> 1\u001b[0;31m \u001b[0mA\u001b[0m\u001b[0;34m\u001b[0m\u001b[0;34m\u001b[0m\u001b[0m\n\u001b[0m",
            "\u001b[0;31mNameError\u001b[0m: name 'A' is not defined"
          ]
        }
      ]
    },
    {
      "cell_type": "markdown",
      "source": [
        "07\n",
        "\n",
        "아래 코드의 실행 결과를 예측하라. (읽기 어려운 코드의 예입니다.)\n",
        "\n",
        "```\n",
        "print(\"A\")\n",
        "\n",
        "def message() :\n",
        "    print(\"B\")\n",
        "\n",
        "print(\"C\")\n",
        "message()\n",
        "```"
      ],
      "metadata": {
        "id": "04sl6tQyPiaZ"
      }
    },
    {
      "cell_type": "code",
      "source": [
        "A\n",
        "C\n",
        "B"
      ],
      "metadata": {
        "id": "JKVk2Aw2PmTw"
      },
      "execution_count": null,
      "outputs": []
    },
    {
      "cell_type": "markdown",
      "source": [
        "08\n",
        "\n",
        "아래 코드의 실행 결과를 예측하라. (읽기 어려운 코드의 예입니다.)\n",
        "```\n",
        "print(\"A\")\n",
        "def message1() :\n",
        "    print(\"B\")\n",
        "print(\"C\")\n",
        "def message2() :\n",
        "    print(\"D\")\n",
        "message1()\n",
        "print(\"E\")\n",
        "message2()\n",
        "```"
      ],
      "metadata": {
        "id": "-0Urje6bPm9P"
      }
    },
    {
      "cell_type": "code",
      "source": [
        "A\n",
        "C\n",
        "B\n",
        "E\n",
        "D"
      ],
      "metadata": {
        "id": "quw5X00dPq1Q"
      },
      "execution_count": null,
      "outputs": []
    },
    {
      "cell_type": "markdown",
      "source": [
        "09\n",
        "\n",
        "아래 코드의 실행 결과를 예측하라.\n",
        "\n",
        "```\n",
        "def message1():\n",
        "    print(\"A\")\n",
        "\n",
        "def message2():\n",
        "    print(\"B\")\n",
        "    message1()\n",
        "\n",
        "message2()\n",
        "```"
      ],
      "metadata": {
        "id": "pwMD3-S4PrTk"
      }
    },
    {
      "cell_type": "code",
      "source": [
        "B\n",
        "A\n"
      ],
      "metadata": {
        "id": "De-PwqqwP0RQ"
      },
      "execution_count": null,
      "outputs": []
    },
    {
      "cell_type": "markdown",
      "source": [
        "10\n",
        "\n",
        "아래 코드의 실행 결과를 예측하라.\n",
        "\n",
        "```\n",
        "def message1():\n",
        "    print(\"A\")\n",
        "\n",
        "def message2():\n",
        "    print(\"B\")\n",
        "\n",
        "def message3():\n",
        "    for i in range (3) :\n",
        "        message2()\n",
        "        print(\"C\")\n",
        "    message1()\n",
        "\n",
        "message3()\n",
        "\n",
        "```"
      ],
      "metadata": {
        "id": "Uk2oLx17P2s7"
      }
    },
    {
      "cell_type": "code",
      "source": [
        "B\n",
        "C\n",
        "B\n",
        "C\n",
        "B\n",
        "C\n",
        "A\n"
      ],
      "metadata": {
        "id": "OrspRUSxP6IY"
      },
      "execution_count": null,
      "outputs": []
    },
    {
      "cell_type": "markdown",
      "source": [
        "11\n",
        "\n",
        "\n",
        "함수의 호출 결과를 예측하라.\n",
        "```\n",
        "def 함수(문자열) :\n",
        "    print(문자열)\n",
        "\n",
        "함수(\"안녕\")\n",
        "함수(\"Hi\")\n",
        "```"
      ],
      "metadata": {
        "id": "AvWbaDMAP6nI"
      }
    },
    {
      "cell_type": "code",
      "source": [
        "안녕\n",
        "Hi"
      ],
      "metadata": {
        "id": "1Fse24b3P_uP",
        "colab": {
          "base_uri": "https://localhost:8080/"
        },
        "outputId": "0b9698cd-f177-4960-c0aa-2cf346105281"
      },
      "execution_count": 32,
      "outputs": [
        {
          "output_type": "stream",
          "name": "stdout",
          "text": [
            "안녕\n",
            "Hi\n"
          ]
        }
      ]
    },
    {
      "cell_type": "markdown",
      "source": [
        "12\n",
        "\n",
        "함수의 호출 결과를 예측하라.\n",
        "\n",
        "```\n",
        "def 함수(a, b) :\n",
        "    print(a + b)\n",
        "\n",
        "함수(3, 4)\n",
        "함수(7, 8)\n",
        "```"
      ],
      "metadata": {
        "id": "jyPw2HBcQAMi"
      }
    },
    {
      "cell_type": "code",
      "source": [
        "7\n",
        "15"
      ],
      "metadata": {
        "id": "ZJLPbX_zQCaf"
      },
      "execution_count": null,
      "outputs": []
    },
    {
      "cell_type": "markdown",
      "source": [
        "13\n",
        "\n",
        "아래와 같은 에러가 발생하는 원인을 설명하라.\n",
        "\n",
        "```\n",
        "def 함수(문자열) :\n",
        "    print(문자열)\n",
        "\n",
        "함수()\n",
        "```\n",
        "\n",
        "```\n",
        "TypeError: 함수() missing 1 required positional argument: '문자열'\n",
        "```"
      ],
      "metadata": {
        "id": "L2_nJyf6QEku"
      }
    },
    {
      "cell_type": "code",
      "source": [
        "함수 호출시 인자를 전달하지 않았기 때문"
      ],
      "metadata": {
        "id": "--nJXZkxQJ-n"
      },
      "execution_count": null,
      "outputs": []
    },
    {
      "cell_type": "markdown",
      "source": [
        "14\n",
        "\n",
        "아래와 같은 에러가 발생하는 원인을 설명하라.\n",
        "```\n",
        "def 함수(a, b) :\n",
        "    print(a + b)\n",
        "\n",
        "함수(\"안녕\", 3)\n",
        "```"
      ],
      "metadata": {
        "id": "KOnAR360QQmx"
      }
    },
    {
      "cell_type": "code",
      "source": [
        "타입이 다르기 때문"
      ],
      "metadata": {
        "id": "VLwkbpheQT0e"
      },
      "execution_count": null,
      "outputs": []
    },
    {
      "cell_type": "markdown",
      "source": [
        "15\n",
        "\n",
        "하나의 문자를 입력받아 문자열 끝에 \":D\" 스마일 문자열을 이어 붙여 출력하는 print_with_smile 함수를 정의하라."
      ],
      "metadata": {
        "id": "HpDVku90QUr3"
      }
    },
    {
      "cell_type": "code",
      "source": [
        "def print_with_smile(char):\n",
        "  print(char+\":D\")"
      ],
      "metadata": {
        "id": "JWZ1Ar4KQW3O"
      },
      "execution_count": 37,
      "outputs": []
    },
    {
      "cell_type": "markdown",
      "source": [
        "16\n",
        "\n",
        "15에서 정의한 함수를 호출하라. 파라미터는 \"안녕하세요\"로 입력하라.\n",
        "\n"
      ],
      "metadata": {
        "id": "9hm2K6BaQZ-v"
      }
    },
    {
      "cell_type": "code",
      "source": [
        "def print_with_smile(char):\n",
        "  print(char+\":D\")\n",
        "\n",
        "print_with_smile(\"안녕하세요\")"
      ],
      "metadata": {
        "id": "XufEKUK2QdgW",
        "colab": {
          "base_uri": "https://localhost:8080/"
        },
        "outputId": "04b28da7-cdf3-4a84-a206-2c50f231231f"
      },
      "execution_count": 40,
      "outputs": [
        {
          "output_type": "stream",
          "name": "stdout",
          "text": [
            "안녕하세요:D\n"
          ]
        }
      ]
    },
    {
      "cell_type": "markdown",
      "source": [
        "17\n",
        "\n",
        "현재 가격을 입력 받아 상한가 (30%)를 출력하는 print_upper_price 함수를 정의하라."
      ],
      "metadata": {
        "id": "3lUj5hXRQfI-"
      }
    },
    {
      "cell_type": "code",
      "source": [
        "def print_upper_price(a):\n",
        "  print(a*1.3)\n",
        "\n",
        "print_upper_price(50000)"
      ],
      "metadata": {
        "id": "NG28myQ9QhI-",
        "colab": {
          "base_uri": "https://localhost:8080/"
        },
        "outputId": "4c5c1e4c-bc24-4ceb-9ac2-9cf936adcd30"
      },
      "execution_count": 44,
      "outputs": [
        {
          "output_type": "stream",
          "name": "stdout",
          "text": [
            "65000.0\n"
          ]
        }
      ]
    },
    {
      "cell_type": "markdown",
      "source": [
        "18\n",
        "\n",
        "두 개의 숫자를 입력받아 두 수의 합을 출력하는 print_sum 함수를 정의하라."
      ],
      "metadata": {
        "id": "jRC8OmBEQhhH"
      }
    },
    {
      "cell_type": "code",
      "source": [
        "def print_sum(a,b):\n",
        "  print(a+b)\n",
        "print_sum(1,3)"
      ],
      "metadata": {
        "id": "wzPmXmzwQi_F",
        "colab": {
          "base_uri": "https://localhost:8080/"
        },
        "outputId": "70e96e20-023c-4f58-ce17-ebaaa804c8c8"
      },
      "execution_count": 45,
      "outputs": [
        {
          "output_type": "stream",
          "name": "stdout",
          "text": [
            "4\n"
          ]
        }
      ]
    },
    {
      "cell_type": "markdown",
      "source": [
        "19\n",
        "\n",
        "두 개의 숫자를 입력받아 합/차/곱/나눗셈을 출력하는 print_arithmetic_operation 함수를 작성하라."
      ],
      "metadata": {
        "id": "K117rkfdQkUY"
      }
    },
    {
      "cell_type": "code",
      "source": [
        "def print_arithmetic_opperation(a,b):\n",
        "  print(a+b)\n",
        "  print(a-b)\n",
        "  print(a*b)\n",
        "  print(a/b)\n",
        "print_arithmetic_opperation(4,2)"
      ],
      "metadata": {
        "id": "I3vzkMYhQkhu",
        "colab": {
          "base_uri": "https://localhost:8080/"
        },
        "outputId": "44c22966-daa9-494e-a644-eb01e67a1460"
      },
      "execution_count": 47,
      "outputs": [
        {
          "output_type": "stream",
          "name": "stdout",
          "text": [
            "6\n",
            "2\n",
            "8\n",
            "2.0\n"
          ]
        }
      ]
    },
    {
      "cell_type": "markdown",
      "source": [
        "20\n",
        "\n",
        "세 개의 숫자를 입력받아 가장 큰수를 출력하는 print_max 함수를 정의하라. 단 if 문을 사용해서 수를 비교하라."
      ],
      "metadata": {
        "id": "yjKnZeeXQmxz"
      }
    },
    {
      "cell_type": "code",
      "source": [
        "def print_max(a,b,c):\n",
        "  max_value = 0\n",
        "  if a > max_value:\n",
        "    max_value=a\n",
        "  if b > max_value:\n",
        "    max_value=b\n",
        "  if c > max_value :\n",
        "    max_value=c\n",
        "  print(max_value)\n",
        "print_max(1,5,3)"
      ],
      "metadata": {
        "id": "pghd6Rs1QnWN",
        "colab": {
          "base_uri": "https://localhost:8080/"
        },
        "outputId": "ccf56e76-ab04-4b58-ace4-8f11efe99454"
      },
      "execution_count": 49,
      "outputs": [
        {
          "output_type": "stream",
          "name": "stdout",
          "text": [
            "5\n"
          ]
        }
      ]
    },
    {
      "cell_type": "markdown",
      "source": [
        "21\n",
        "\n",
        "입력된 문자열을 역순으로 출력하는 print_reverse 함수를 정의하라.\n",
        "\n",
        "```\n",
        "print_reverse(\"python\")\n",
        "```\n",
        "\n",
        "```\n",
        "nohtyp\n",
        "```"
      ],
      "metadata": {
        "id": "2069nKrUQooZ"
      }
    },
    {
      "cell_type": "code",
      "source": [
        "def print_reverse(a):\n",
        "  print(a[::-1])\n",
        "\n",
        "print_reverse(\"python\")"
      ],
      "metadata": {
        "id": "F6KF7nKUQuVt",
        "colab": {
          "base_uri": "https://localhost:8080/"
        },
        "outputId": "56aecba9-d607-4ffc-be57-90b42245f320"
      },
      "execution_count": 52,
      "outputs": [
        {
          "output_type": "stream",
          "name": "stdout",
          "text": [
            "nohtyp\n"
          ]
        }
      ]
    },
    {
      "cell_type": "markdown",
      "source": [
        "22\n",
        "\n",
        "성적 리스트를 입력 받아 평균을 출력하는 print_score 함수를 정의하라.\n",
        "```\n",
        "print_score ([1, 2, 3])\n",
        "```\n",
        "```\n",
        "2.0\n",
        "```"
      ],
      "metadata": {
        "id": "I4q8JlvPQvAR"
      }
    },
    {
      "cell_type": "code",
      "source": [
        "def print_score(list):\n",
        "  print(sum(list)/len(list))\n",
        "\n",
        "print_score([10,20,30,60])\n"
      ],
      "metadata": {
        "id": "tL3eR4VCQwdk",
        "colab": {
          "base_uri": "https://localhost:8080/"
        },
        "outputId": "1c004870-ceb4-4b27-a5b9-340278ff1a76"
      },
      "execution_count": 83,
      "outputs": [
        {
          "output_type": "stream",
          "name": "stdout",
          "text": [
            "30.0\n"
          ]
        }
      ]
    },
    {
      "cell_type": "markdown",
      "source": [
        "23\n",
        "\n",
        "하나의 리스트를 입력받아 짝수만 화면에 출력하는 print_even 함수를 정의하라.\n",
        "```\n",
        "print_even ([1, 3, 2, 10, 12, 11, 15])\n",
        "```\n",
        "```\n",
        "2\n",
        "10\n",
        "12\n",
        "```"
      ],
      "metadata": {
        "id": "-yvuLNj7Q8Io"
      }
    },
    {
      "cell_type": "code",
      "source": [
        "def print_even(number):\n",
        "  for i in number:\n",
        "    if i % 2 ==0:\n",
        "      print(i)\n",
        "\n",
        "print_even([1,3,2,10,12,11,15])"
      ],
      "metadata": {
        "id": "bHSSU059Q8vs",
        "colab": {
          "base_uri": "https://localhost:8080/"
        },
        "outputId": "bc34b17b-1140-4d46-e8e2-cca839f94390"
      },
      "execution_count": 64,
      "outputs": [
        {
          "output_type": "stream",
          "name": "stdout",
          "text": [
            "2\n",
            "10\n",
            "12\n"
          ]
        }
      ]
    },
    {
      "cell_type": "markdown",
      "source": [
        "24\n",
        "\n",
        "하나의 딕셔너리를 입력받아 딕셔너리의 key 값을 화면에 출력하는 print_keys 함수를 정의하라.\n",
        "\n",
        "```\n",
        "print_keys ({\"이름\":\"김말똥\", \"나이\":30, \"성별\":0})\n",
        "```\n",
        "\n",
        "```\n",
        "이름\n",
        "나이\n",
        "성별\n",
        "```\n"
      ],
      "metadata": {
        "id": "P1XGIn-fRBHI"
      }
    },
    {
      "cell_type": "code",
      "source": [
        "def print_keys(a):\n",
        "  for key in a.keys():\n",
        "    print(key)\n",
        "print_keys({\"이름\":\"김말똥\", \"나이\":30, \"성별\":0})"
      ],
      "metadata": {
        "id": "OxkvLkn9RG1U",
        "colab": {
          "base_uri": "https://localhost:8080/"
        },
        "outputId": "82676a62-3a56-4e6f-cd66-3b5415e85421"
      },
      "execution_count": 66,
      "outputs": [
        {
          "output_type": "stream",
          "name": "stdout",
          "text": [
            "이름\n",
            "나이\n",
            "성별\n"
          ]
        }
      ]
    },
    {
      "cell_type": "markdown",
      "source": [
        "25\n",
        "\n",
        "입력 문자열을 한 줄에 다섯글자씩 출력하는 print_5xn(string) 함수를 작성하라.\n",
        "\n",
        "```\n",
        "print_5xn(\"아이엠어보이유알어걸\")\n",
        "```\n",
        "```\n",
        "아이엠어보\n",
        "이유알어걸\n",
        "```"
      ],
      "metadata": {
        "id": "Ql6MrGVVRNYg"
      }
    },
    {
      "cell_type": "code",
      "source": [
        "def print_5xn(string):\n",
        "  for i in range(0, len(string), 1):\n",
        "    print(string[i*5:i*5+5])    \n",
        "\n",
        "print_5xn(\"아이엠어보이유알어걸\")"
      ],
      "metadata": {
        "id": "GmJ6eeduRQMs",
        "colab": {
          "base_uri": "https://localhost:8080/"
        },
        "outputId": "c33c2d15-3078-42e3-aef4-e871a5ddf91b"
      },
      "execution_count": 88,
      "outputs": [
        {
          "output_type": "stream",
          "name": "stdout",
          "text": [
            "아이엠어보\n",
            "이유알어걸\n",
            "\n",
            "\n",
            "\n",
            "\n",
            "\n",
            "\n",
            "\n",
            "\n"
          ]
        }
      ]
    },
    {
      "cell_type": "markdown",
      "source": [
        "26\n",
        "\n",
        "문자열과 한줄에 출력될 글자 수를 입력을 받아 한 줄에 입력된 글자 수만큼 출력하는 print_mxn(string) 함수를 작성하라.\n",
        "\n",
        "```\n",
        "printmxn(\"아이엠어보이유알어걸\", 3)\n",
        "```\n",
        "```\n",
        "아이엠\n",
        "어보이\n",
        "유알어\n",
        "걸\n",
        "```"
      ],
      "metadata": {
        "id": "Kpk_NVYQRS5f"
      }
    },
    {
      "cell_type": "code",
      "source": [
        "def print_mxn(s, count):\n",
        "  numline = int(len(s)/count)\n",
        "  for i in range(numline+1):\n",
        "    print(s[i*3:i*3+3])\n",
        "\n",
        "print_mxn(\"아이엠어보이유알어걸\",3)"
      ],
      "metadata": {
        "id": "1-qzLC7sRVhc",
        "colab": {
          "base_uri": "https://localhost:8080/"
        },
        "outputId": "90f71626-b91e-49bd-ff25-ff970cde7b9e"
      },
      "execution_count": 94,
      "outputs": [
        {
          "output_type": "stream",
          "name": "stdout",
          "text": [
            "아이엠\n",
            "어보이\n",
            "유알어\n",
            "걸\n"
          ]
        }
      ]
    },
    {
      "cell_type": "markdown",
      "source": [
        "27\n",
        "\n",
        "연봉을 입력받아 월급을 계산하는 calc_monthly_salary(annual_salary) 함수를 정의하라. 회사는 연봉을 12개월로 나누어 분할 지급하며, \n",
        "\n",
        "이 때 1원 미만은 버림한다.\n",
        "\n",
        "```\n",
        "calc_monthly_salary(12000000)\n",
        "```\n",
        "```\n",
        "1000000\n",
        "```"
      ],
      "metadata": {
        "id": "OBbbhmTuSPZU"
      }
    },
    {
      "cell_type": "code",
      "source": [
        "def calc_monthly_salary(annual_salary):\n",
        "  monthly_salary = int(annual_salary/12)\n",
        "  print(monthly_salary)\n",
        "\n",
        "calc_monthly_salary(12000000)\n"
      ],
      "metadata": {
        "id": "fEwqkUWdSP_5",
        "colab": {
          "base_uri": "https://localhost:8080/"
        },
        "outputId": "d04ceeca-03b4-4a2d-99d2-7a4f512bb7db"
      },
      "execution_count": 95,
      "outputs": [
        {
          "output_type": "stream",
          "name": "stdout",
          "text": [
            "1000000\n"
          ]
        }
      ]
    },
    {
      "cell_type": "markdown",
      "source": [
        "28\n",
        "\n",
        "아래 코드의 실행 결과를 예측하라.\n",
        "\n",
        "```\n",
        "def my_print (a, b) :\n",
        "    print(\"왼쪽:\", a)\n",
        "    print(\"오른쪽:\", b)\n",
        "\n",
        "```\n",
        "my_print(a=100, b=200)"
      ],
      "metadata": {
        "id": "s1BANAOvSXOZ"
      }
    },
    {
      "cell_type": "code",
      "source": [
        "왼쪽 : 100\n",
        "오른쪽 : 200"
      ],
      "metadata": {
        "id": "ugMfvXvtSad5"
      },
      "execution_count": null,
      "outputs": []
    },
    {
      "cell_type": "markdown",
      "source": [
        "29\n",
        "\n",
        "아래 코드의 실행 결과를 예측하라.\n",
        "\n",
        "```\n",
        "def my_print (a, b) :\n",
        "    print(\"왼쪽:\", a)\n",
        "    print(\"오른쪽:\", b)\n",
        "```\n",
        "```\n",
        "my_print(b=100, a=200)\n",
        "```"
      ],
      "metadata": {
        "id": "uIFN2HqSScKs"
      }
    },
    {
      "cell_type": "code",
      "source": [
        "왼쪽 : 200\n",
        "오른쪽 : 100"
      ],
      "metadata": {
        "id": "PcCCrEsOSvwg"
      },
      "execution_count": null,
      "outputs": []
    },
    {
      "cell_type": "markdown",
      "source": [
        "30\n",
        "\n",
        "아래 코드를 실행한 결과를 예상하라.\n",
        "\n",
        "```\n",
        "def n_plus_1 (n) :\n",
        "    result = n + 1\n",
        "```\n",
        "```\n",
        "n_plus_1(3)\n",
        "print (result)\n",
        "```"
      ],
      "metadata": {
        "id": "6aI2IJs1Sy4m"
      }
    },
    {
      "cell_type": "code",
      "source": [
        "4"
      ],
      "metadata": {
        "id": "ZkK5seQDS6oH"
      },
      "execution_count": null,
      "outputs": []
    },
    {
      "cell_type": "markdown",
      "source": [
        "31\n",
        "\n",
        "문자열 하나를 입력받아 인터넷 주소를 반환하는 make_url 함수를 정의하라.\n",
        "```\n",
        "make_url(\"naver\")\n",
        "```\n",
        "```\n",
        "www.naver.com\n",
        "```"
      ],
      "metadata": {
        "id": "YnxwO2HgS-6K"
      }
    },
    {
      "cell_type": "code",
      "source": [
        "def make_url(a):\n",
        "  print(\"www.\"+a+\".com\")\n",
        "\n",
        "make_url(\"naver\")"
      ],
      "metadata": {
        "id": "V9zsfPGkS_c_",
        "colab": {
          "base_uri": "https://localhost:8080/"
        },
        "outputId": "4ce78bf4-8615-4140-cdcf-c9f3b9ff5c3f"
      },
      "execution_count": 75,
      "outputs": [
        {
          "output_type": "stream",
          "name": "stdout",
          "text": [
            "www.naver.com\n"
          ]
        }
      ]
    },
    {
      "cell_type": "markdown",
      "source": [
        "32\n",
        "\n",
        "문자열을 입력받아 각 문자들로 구성된 리스트로 반환하는 make_list 함수를 정의하라.\n",
        "\n",
        "```\n",
        "make_list(\"abcd\")\n",
        "```\n",
        "```\n",
        "['a', 'b', 'c', 'd']\n",
        "```"
      ],
      "metadata": {
        "id": "ctVz3FNqTDaM"
      }
    },
    {
      "cell_type": "code",
      "source": [
        "def make_list(s):\n",
        "  result=[]\n",
        "  for i in s:\n",
        "    result.append(i)\n",
        "  return result\n",
        "make_list(\"abcd\")"
      ],
      "metadata": {
        "id": "LlPbEv06TIJW",
        "colab": {
          "base_uri": "https://localhost:8080/"
        },
        "outputId": "b01b9bf9-fb02-46fc-f424-c7f02b46e8e4"
      },
      "execution_count": 80,
      "outputs": [
        {
          "output_type": "execute_result",
          "data": {
            "text/plain": [
              "['a', 'b', 'c', 'd']"
            ]
          },
          "metadata": {},
          "execution_count": 80
        }
      ]
    },
    {
      "cell_type": "markdown",
      "source": [
        "33\n",
        "\n",
        "숫자로 구성된 하나의 리스트를 입력받아, 짝수들을 추출하여 리스트로 반환하는 pickup_even 함수를 구현하라.\n",
        "\n",
        "```\n",
        "pickup_even([3, 4, 5, 6, 7, 8])\n",
        "```\n",
        "```\n",
        "[4, 6, 8]\n",
        "```"
      ],
      "metadata": {
        "id": "MvWSnSS2TIsY"
      }
    },
    {
      "cell_type": "code",
      "source": [
        "def pickup_even(list):\n",
        "  result=[]\n",
        "  for i in list:\n",
        "    if i%2 ==0 :\n",
        "      print(i)\n",
        "pickup_even([3,4,5,6,7,8])"
      ],
      "metadata": {
        "id": "WvRTasfbTMhe",
        "colab": {
          "base_uri": "https://localhost:8080/"
        },
        "outputId": "731e3988-816f-4e43-ec1b-d81756848532"
      },
      "execution_count": 96,
      "outputs": [
        {
          "output_type": "stream",
          "name": "stdout",
          "text": [
            "4\n",
            "6\n",
            "8\n"
          ]
        }
      ]
    },
    {
      "cell_type": "markdown",
      "source": [
        "34\n",
        "\n",
        "콤마가 포함된 문자열 숫자를 입력받아 정수로 변환하는 convert_int 함수를 정의하라.\n",
        "\n",
        "```\n",
        "convert_int(\"1,234,567\")\n",
        "```\n",
        "```\n",
        "1234567\n",
        "```"
      ],
      "metadata": {
        "id": "ipEGBNRhTOZ_"
      }
    },
    {
      "cell_type": "code",
      "source": [
        "def convert_int(num):\n",
        "  return int(num.replace(',',''))\n",
        "  print(num)\n",
        "\n",
        "convert_int(\"1,234,567\")\n",
        "\n"
      ],
      "metadata": {
        "id": "9ho3c77NTRRe",
        "colab": {
          "base_uri": "https://localhost:8080/"
        },
        "outputId": "b45d67c3-e40b-46bd-96c7-59fe24fbf9c4"
      },
      "execution_count": 97,
      "outputs": [
        {
          "output_type": "execute_result",
          "data": {
            "text/plain": [
              "1234567"
            ]
          },
          "metadata": {},
          "execution_count": 97
        }
      ]
    },
    {
      "cell_type": "markdown",
      "source": [
        "35\n",
        "\n",
        "아래 코드의 실행 결과를 예측하라.\n",
        "\n",
        "```\n",
        "def 함수(num) :\n",
        "    return num + 4\n",
        "\n",
        "\n",
        "a = 함수(10)\n",
        "b = 함수(a)\n",
        "c = 함수(b)\n",
        "print(c)\n",
        "```"
      ],
      "metadata": {
        "id": "TEKwZi1NTS_j"
      }
    },
    {
      "cell_type": "code",
      "source": [
        "22"
      ],
      "metadata": {
        "id": "AeJIk70vTVbH"
      },
      "execution_count": null,
      "outputs": []
    },
    {
      "cell_type": "markdown",
      "source": [
        "36\n",
        "\n",
        "아래 코드의 실행 결과를 예측하라.\n",
        "\n",
        "```\n",
        "def 함수(num) :\n",
        "    return num + 4\n",
        "\n",
        "c = 함수(함수(함수(10)))\n",
        "print(c)\n",
        "```"
      ],
      "metadata": {
        "id": "838UmNADTXK2"
      }
    },
    {
      "cell_type": "code",
      "source": [
        "22"
      ],
      "metadata": {
        "id": "l1DN9Nl3TZHO"
      },
      "execution_count": null,
      "outputs": []
    },
    {
      "cell_type": "markdown",
      "source": [
        "37\n",
        "\n",
        "아래 코드의 실행 결과를 예측하라.\n",
        "\n",
        "```\n",
        "def 함수1(num) :\n",
        "    return num + 4\n",
        "\n",
        "def 함수2(num) :\n",
        "    return num * 10\n",
        "\n",
        "a = 함수1(10)\n",
        "c = 함수2(a)\n",
        "print(c)\n",
        "```"
      ],
      "metadata": {
        "id": "_ffE0iAtTbve"
      }
    },
    {
      "cell_type": "code",
      "source": [
        "140"
      ],
      "metadata": {
        "id": "5j8zq0skTd82"
      },
      "execution_count": null,
      "outputs": []
    },
    {
      "cell_type": "markdown",
      "source": [
        "38\n",
        "\n",
        "아래 코드의 실행 결과를 예측하라.\n",
        "\n",
        "```\n",
        "def 함수1(num) :\n",
        "    return num + 4\n",
        "\n",
        "def 함수2(num) :\n",
        "    num = num + 2\n",
        "    return 함수1(num)\n",
        "\n",
        "c = 함수2(10)\n",
        "print(c)\n",
        "```"
      ],
      "metadata": {
        "id": "LXr2yvqVTgcR"
      }
    },
    {
      "cell_type": "code",
      "source": [
        "16"
      ],
      "metadata": {
        "id": "3XH601oJTjul"
      },
      "execution_count": null,
      "outputs": []
    },
    {
      "cell_type": "markdown",
      "source": [
        "39\n",
        "아래 코드의 실행 결과를 예측하라.\n",
        "\n",
        "```\n",
        "def 함수0(num) :\n",
        "    return num * 2\n",
        "\n",
        "def 함수1(num) :\n",
        "    return 함수0(num + 2)\n",
        "\n",
        "def 함수2(num) :\n",
        "    num = num + 10\n",
        "    return 함수1(num)\n",
        "\n",
        "c = 함수2(2)\n",
        "print(c)\n",
        "```"
      ],
      "metadata": {
        "id": "S2Lred36TkuA"
      }
    },
    {
      "cell_type": "code",
      "source": [
        "28"
      ],
      "metadata": {
        "id": "HwPkba8VTqA1"
      },
      "execution_count": null,
      "outputs": []
    }
  ]
}